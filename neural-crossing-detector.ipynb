{
 "cells": [
  {
   "cell_type": "code",
   "execution_count": 1,
   "metadata": {},
   "outputs": [],
   "source": [
    "import numpy as np\n",
    "\n",
    "import torch\n",
    "import torch.nn as nn\n",
    "from torch.utils.data import Dataset, DataLoader\n",
    "import torch.optim as optim\n",
    "\n",
    "from tqdm.notebook import tqdm\n",
    "import matplotlib.pyplot as plt\n",
    "plt.style.use('ggplot')\n",
    "plt.style.use('seaborn-colorblind')"
   ]
  },
  {
   "cell_type": "code",
   "execution_count": 14,
   "metadata": {},
   "outputs": [],
   "source": [
    "def draw_edge_pair(x):\n",
    "    plt.plot([x[0], x[2]], [x[1], x[3]])\n",
    "    plt.plot([x[4], x[6]], [x[5], x[7]])\n",
    "    \n",
    "    \n",
    "def are_edge_pairs_crossed(p):\n",
    "    p1, p2, p3, p4 = p[:,:2], p[:,2:4], p[:,4:6], p[:,6:]\n",
    "    a = p2 - p1\n",
    "    b = p3 - p4\n",
    "    c = p1 - p3\n",
    "    ax, ay = a[:,0], a[:,1]\n",
    "    bx, by = b[:,0], b[:,1]\n",
    "    cx, cy = c[:,0], c[:,1]\n",
    "    \n",
    "    denom = ay*bx - ax*by\n",
    "    numer_alpha = by*cx-bx*cy\n",
    "    numer_beta = ax*cy-ay*cx\n",
    "    alpha = numer_alpha / denom\n",
    "    beta = numer_beta / denom\n",
    "    return torch.logical_and(\n",
    "        torch.logical_and(0<alpha, alpha<1),\n",
    "        torch.logical_and(0<beta, beta<1),\n",
    "    ).float()\n",
    "\n",
    "\n",
    "\n",
    "class EdgePairDataset():\n",
    "    def __init__(self, n=10000):\n",
    "        super().__init__()\n",
    "        self.n = n\n",
    "        self.data = torch.rand(n, 8)\n",
    "        self.label = are_edge_pairs_crossed(self.data)\n",
    "        \n",
    "    def __len__(self):\n",
    "        return self.n\n",
    "    \n",
    "    def __getitem__(self, i):\n",
    "        return self.data[i], self.label[i]\n",
    "    \n",
    "    \n",
    "    \n",
    "class CrossingDetector(nn.Module):\n",
    "    def __init__(self):\n",
    "        super().__init__()\n",
    "        self.layer_dims = [8,96,256,96,1]\n",
    "        self.layers = []\n",
    "        for i, (in_dim, out_dim) in enumerate(zip(self.layer_dims[:-1], self.layer_dims[1:])):\n",
    "            self.layers.append(nn.Linear(in_dim, out_dim))\n",
    "            if i < len(self.layer_dims)-2:\n",
    "                self.layers.append(nn.LeakyReLU())\n",
    "            else:\n",
    "                self.layers.append(nn.Sigmoid())\n",
    "        self.main = nn.Sequential(*self.layers)\n",
    "        \n",
    "    def forward(self, x):\n",
    "        return self.main(x)\n",
    "    \n",
    "    \n",
    "\n"
   ]
  },
  {
   "cell_type": "code",
   "execution_count": 15,
   "metadata": {},
   "outputs": [],
   "source": [
    "dataset = EdgePairDataset(n=int(1e6))\n",
    "dataloader = DataLoader(dataset, batch_size=1024, shuffle=True)\n",
    "\n",
    "device = 'cuda'\n",
    "model = CrossingDetector().to(device)\n",
    "bce = nn.BCELoss()\n",
    "optmizer = optim.SGD(model.parameters(), lr=1)"
   ]
  },
  {
   "cell_type": "code",
   "execution_count": null,
   "metadata": {},
   "outputs": [
    {
     "data": {
      "application/vnd.jupyter.widget-view+json": {
       "model_id": "1df0a8a1aee94192a1d4c1e3f2cb44fa",
       "version_major": 2,
       "version_minor": 0
      },
      "text/plain": [
       "HBox(children=(FloatProgress(value=0.0), HTML(value='')))"
      ]
     },
     "metadata": {},
     "output_type": "display_data"
    }
   ],
   "source": [
    "\n",
    "\n",
    "loss_curve = []\n",
    "for epoch in tqdm(range(100)):\n",
    "    for edge_pairs, targets in dataloader:\n",
    "        edge_pairs, targets = edge_pairs.to(device), targets.to(device)\n",
    "        pred = model(edge_pairs)\n",
    "        loss = bce(pred, targets.view(-1,1))\n",
    "\n",
    "        optmizer.zero_grad()\n",
    "        loss.backward()\n",
    "        optmizer.step()\n",
    "        \n",
    "    loss_curve.append(loss.item())\n",
    "        \n",
    "    if epoch % 20 == 19:\n",
    "        plt.plot(loss_curve)\n",
    "        plt.show()\n"
   ]
  },
  {
   "cell_type": "markdown",
   "metadata": {},
   "source": [
    "## Acurracy"
   ]
  },
  {
   "cell_type": "code",
   "execution_count": null,
   "metadata": {},
   "outputs": [],
   "source": [
    "test_loader = DataLoader(EdgePairDataset(n=int(1e6)), batch_size=1024, shuffle=True)\n",
    "\n",
    "correct = 0\n",
    "total = 0\n",
    "with torch.no_grad():\n",
    "    for edge_pairs, targets in tqdm(test_loader):\n",
    "        edge_pairs, targets = edge_pairs.to(device), targets.to(device)\n",
    "        pred = model(edge_pairs)\n",
    "        correct += ((pred>0.5) == targets.view(-1,1)).sum().item()\n",
    "        total += len(targets)\n",
    "        \n",
    "#         ## vis\n",
    "#         draw_edge_pair(edge_pairs[0])\n",
    "#         plt.title(f'{pred[0].item()}/{targets[0].item()}')\n",
    "#         plt.xlim([0,1])\n",
    "#         plt.ylim([0,1])\n",
    "#         plt.show()\n",
    "print(f'{correct}/{total} {correct/total}')"
   ]
  },
  {
   "cell_type": "markdown",
   "metadata": {},
   "source": [
    "## Test: Optimziation on a single pair of crossed edges"
   ]
  },
  {
   "cell_type": "code",
   "execution_count": null,
   "metadata": {},
   "outputs": [],
   "source": []
  }
 ],
 "metadata": {
  "kernelspec": {
   "display_name": "Python 3",
   "language": "python",
   "name": "python3"
  },
  "language_info": {
   "codemirror_mode": {
    "name": "ipython",
    "version": 3
   },
   "file_extension": ".py",
   "mimetype": "text/x-python",
   "name": "python",
   "nbconvert_exporter": "python",
   "pygments_lexer": "ipython3",
   "version": "3.6.6"
  }
 },
 "nbformat": 4,
 "nbformat_minor": 2
}
