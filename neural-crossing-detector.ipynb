{
 "cells": [
  {
   "cell_type": "code",
   "execution_count": 66,
   "metadata": {},
   "outputs": [],
   "source": [
    "import numpy as np\n",
    "import torch\n",
    "import torch.nn as nn\n",
    "from torch.utils.data import Dataset, DataLoader\n",
    "\n",
    "\n",
    "import matplotlib.pyplot as plt\n",
    "plt.style.use('ggplot')\n",
    "plt.style.use('seaborn-colorblind')\n",
    "\n",
    "class CrossingDetector(nn.Module):\n",
    "    def __init__(self):\n",
    "        super().__init__()\n",
    "        self.layer_dims = [8,100,100,1]\n",
    "        self.layers = []\n",
    "        for i, (in_dim, out_dim) in enumerate(zip(self.layer_dims[:-1], self.layer_dims[1:])):\n",
    "            self.layers.append(nn.Linear(in_dim, out_dim))\n",
    "            if i < len(self.layer_dims)-2:\n",
    "                self.layers.append(nn.LeakyReLU())\n",
    "            else:\n",
    "                self.layers.append(nn.Sigmoid())\n",
    "        self.main = nn.Sequential(*self.layers)\n",
    "        \n",
    "    def forward(self, x):\n",
    "        return self.main(x)"
   ]
  },
  {
   "cell_type": "code",
   "execution_count": 67,
   "metadata": {},
   "outputs": [],
   "source": [
    "def is_edges_crossed(x):\n",
    "    return [is_edges_crossed_1(xi) for xi in x]\n",
    "\n",
    "def is_edges_crossed_1(pos):\n",
    "    return False\n",
    "    \n",
    "    \n",
    "class EdgePairDataset():\n",
    "    def __init__(self, n=1000):\n",
    "        super().__init__()\n",
    "        self.n = n\n",
    "        self.data = torch.rand(n, 8)\n",
    "        self.label = is_crossed(self.data)\n",
    "        \n",
    "    def __len__(self):\n",
    "        return self.n\n",
    "    \n",
    "    def __getitem__(self, i):\n",
    "        return self.data[i], self.label[i]\n",
    "    "
   ]
  },
  {
   "cell_type": "code",
   "execution_count": 68,
   "metadata": {},
   "outputs": [],
   "source": [
    "def draw_edge_pair(x):\n",
    "    plt.plot([x[0], x[2]], [x[1], x[3]])\n",
    "    plt.plot([x[4], x[6]], [x[5], x[7]])\n",
    "    "
   ]
  },
  {
   "cell_type": "code",
   "execution_count": 69,
   "metadata": {},
   "outputs": [],
   "source": [
    "dataset = EdgePairDataset()\n",
    "dataloader = DataLoader(dataset, batch_size=16)\n",
    "model = CrossingDetector()"
   ]
  },
  {
   "cell_type": "code",
   "execution_count": 70,
   "metadata": {},
   "outputs": [
    {
     "name": "stdout",
     "output_type": "stream",
     "text": [
      "tensor([[0.1505, 0.9780, 0.3297, 0.0027, 0.6196, 0.9974, 0.2842, 0.7252],\n",
      "        [0.4473, 0.5697, 0.3057, 0.0495, 0.2475, 0.7375, 0.9513, 0.4313],\n",
      "        [0.7599, 0.7381, 0.3652, 0.4565, 0.1316, 0.3227, 0.1266, 0.3148],\n",
      "        [0.4265, 0.2784, 0.3854, 0.0608, 0.7548, 0.7240, 0.9942, 0.3432],\n",
      "        [0.4675, 0.6620, 0.5669, 0.2075, 0.0707, 0.5025, 0.8180, 0.7584],\n",
      "        [0.2408, 0.2940, 0.3593, 0.9196, 0.3459, 0.3305, 0.6186, 0.3248],\n",
      "        [0.8175, 0.6328, 0.3116, 0.8128, 0.9212, 0.4269, 0.2817, 0.6380],\n",
      "        [0.4423, 0.4714, 0.9219, 0.0966, 0.0810, 0.8423, 0.8502, 0.3822],\n",
      "        [0.8781, 0.4362, 0.6911, 0.5949, 0.3474, 0.3359, 0.4803, 0.1665],\n",
      "        [0.1516, 0.1782, 0.9164, 0.2609, 0.7906, 0.4635, 0.5157, 0.2535],\n",
      "        [0.6330, 0.6090, 0.4168, 0.5290, 0.1553, 0.9511, 0.7599, 0.4126],\n",
      "        [0.9033, 0.8256, 0.1631, 0.5972, 0.1392, 0.7808, 0.4325, 0.3228],\n",
      "        [0.0989, 0.5584, 0.2174, 0.1146, 0.7580, 0.5176, 0.3417, 0.4024],\n",
      "        [0.0560, 0.6312, 0.8164, 0.6658, 0.5093, 0.4593, 0.6365, 0.9133],\n",
      "        [0.6690, 0.5369, 0.6377, 0.3512, 0.8264, 0.3742, 0.6451, 0.2555],\n",
      "        [0.2722, 0.5069, 0.7880, 0.6023, 0.5399, 0.5213, 0.3006, 0.6117]])\n",
      "tensor([0, 0, 0, 0, 0, 0, 0, 0, 0, 0, 0, 0, 0, 0, 0, 0])\n"
     ]
    },
    {
     "data": {
      "image/png": "[encoded data removed]",
      "text/plain": [
       "<Figure size 432x288 with 1 Axes>"
      ]
     },
     "metadata": {},
     "output_type": "display_data"
    }
   ],
   "source": [
    "for edge_pairs, targets in dataloader:\n",
    "    print(edge_pairs)\n",
    "    print(targets)\n",
    "    draw_edge_pair(edge_pairs[0])\n",
    "    break"
   ]
  },
  {
   "cell_type": "code",
   "execution_count": null,
   "metadata": {},
   "outputs": [],
   "source": []
  }
 ],
 "metadata": {
  "kernelspec": {
   "display_name": "Python 3",
   "language": "python",
   "name": "python3"
  },
  "language_info": {
   "codemirror_mode": {
    "name": "ipython",
    "version": 3
   },
   "file_extension": ".py",
   "mimetype": "text/x-python",
   "name": "python",
   "nbconvert_exporter": "python",
   "pygments_lexer": "ipython3",
   "version": "3.6.6"
  }
 },
 "nbformat": 4,
 "nbformat_minor": 2
}
