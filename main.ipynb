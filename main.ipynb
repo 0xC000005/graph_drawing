{
 "cells": [
  {
   "cell_type": "code",
   "execution_count": 1,
   "metadata": {},
   "outputs": [],
   "source": [
    "## custom\n",
    "import utils, graph, vis\n",
    "import optimization as O\n",
    "\n",
    "\n",
    "## third party\n",
    "from PIL import Image\n",
    "from natsort import natsorted\n",
    "import networkx as nx\n",
    "import lovasz_losses as L\n",
    "\n",
    "\n",
    "## sys\n",
    "import random\n",
    "import time\n",
    "from glob import glob\n",
    "\n",
    "## numeric\n",
    "import numpy as np\n",
    "import torch\n",
    "from torch import nn, optim\n",
    "import torch.nn.functional as F\n",
    "\n",
    "## vis\n",
    "import matplotlib.pyplot as plt\n",
    "import matplotlib.animation as animation\n",
    "from matplotlib.colors import LinearSegmentedColormap\n",
    "from mpl_toolkits import mplot3d\n",
    "from matplotlib import collections  as mc\n",
    "from mpl_toolkits.mplot3d.art3d import Line3DCollection\n",
    "\n",
    "## notebook\n",
    "from IPython import display\n",
    "from tqdm.notebook import tqdm\n",
    "\n",
    "device = torch.device('cuda') if torch.cuda.is_available() else torch.device('cpu')\n",
    "device = 'cpu'\n",
    "plt.style.use('ggplot')\n",
    "plt.style.use('seaborn-colorblind')\n"
   ]
  },
  {
   "cell_type": "markdown",
   "metadata": {},
   "source": [
    "## generate a graph"
   ]
  },
  {
   "cell_type": "code",
   "execution_count": 12,
   "metadata": {},
   "outputs": [
    {
     "name": "stdout",
     "output_type": "stream",
     "text": [
      "generating graph...\n",
      "2000 nodes\n",
      "calculating all pairs shortest path...\n"
     ]
    },
    {
     "data": {
      "image/png": "[encoded data removed]",
      "text/plain": [
       "<Figure size 432x288 with 2 Axes>"
      ]
     },
     "metadata": {},
     "output_type": "display_data"
    },
    {
     "name": "stdout",
     "output_type": "stream",
     "text": [
      "CPU times: user 45.4 s, sys: 254 ms, total: 45.7 s\n",
      "Wall time: 46.2 s\n"
     ]
    }
   ],
   "source": [
    "%%time\n",
    "\n",
    "print('generating graph...')\n",
    "# G = nx.balanced_tree(2,3)\n",
    "G = nx.grid_2d_graph(40,50)\n",
    "# G = file2graph('./facebook/0.edges')\n",
    "print(len(G.nodes), 'nodes')\n",
    "\n",
    "print('calculating all pairs shortest path...')\n",
    "D, k2i = utils.dict2tensor(dict(nx.all_pairs_shortest_path_length(G)))\n",
    "W = 1/(D+1e-4)**2\n",
    "adj,_ = utils.dict2tensor(dict(G.adjacency()), fill=1, device=device)\n",
    "truth = adj + torch.eye(adj.shape[0], device=device)\n",
    "\n",
    "# print('k2i', k2i)\n",
    "\n",
    "plt.subplot(121)\n",
    "plt.imshow(adj)\n",
    "plt.title('adjacency')\n",
    "plt.subplot(122)\n",
    "plt.imshow(truth)\n",
    "plt.title('truth')\n",
    "plt.show()"
   ]
  },
  {
   "cell_type": "markdown",
   "metadata": {},
   "source": [
    "## Optimize via Stochastic Gradient Descent (SGD)"
   ]
  },
  {
   "cell_type": "code",
   "execution_count": 18,
   "metadata": {},
   "outputs": [
    {
     "data": {
      "application/vnd.jupyter.widget-view+json": {
       "model_id": "0116bdcf1609408c9cc07f01b3abc695",
       "version_major": 2,
       "version_minor": 0
      },
      "text/plain": [
       "HBox(children=(FloatProgress(value=0.0, max=20000.0), HTML(value='')))"
      ]
     },
     "metadata": {},
     "output_type": "display_data"
    },
    {
     "data": {
      "image/png": "[encoded data removed]",
      "text/plain": [
       "<Figure size 432x288 with 1 Axes>"
      ]
     },
     "metadata": {},
     "output_type": "display_data"
    }
   ],
   "source": [
    "# delete old\n",
    "!rm -r fig\n",
    "!mkdir fig\n",
    "\n",
    "niter = 20000\n",
    "\n",
    "def getLR(i):\n",
    "    base_lr = 0.5\n",
    "    return np.exp(-i*2/niter) * base_lr\n",
    "\n",
    "\n",
    "pos = torch.rand(len(G.nodes), 2, device=device)\n",
    "pos.requires_grad_(True)\n",
    "\n",
    "optimizer = optim.SGD([pos], lr=0.5, momentum=0.9, nesterov=True)\n",
    "# optimizer = optim.Adam([pos], lr=0.1)\n",
    "scheduler = optim.lr_scheduler.LambdaLR(optimizer, getLR)\n",
    "\n",
    "\n",
    "\n",
    "\n",
    "lrs = [getLR(i) for i in range(0,niter,int(niter / 50))]\n",
    "plt.plot(lrs, '.-')\n",
    "plt.title('learning rate')\n",
    "\n",
    "iterBar = tqdm(range(niter))\n",
    "lossHistory = []\n",
    "totalTime = 0"
   ]
  },
  {
   "cell_type": "code",
   "execution_count": 19,
   "metadata": {},
   "outputs": [
    {
     "name": "stdout",
     "output_type": "stream",
     "text": [
      "\n"
     ]
    },
    {
     "ename": "KeyboardInterrupt",
     "evalue": "",
     "output_type": "error",
     "traceback": [
      "\u001b[0;31m---------------------------------------------------------------------------\u001b[0m",
      "\u001b[0;31mKeyboardInterrupt\u001b[0m                         Traceback (most recent call last)",
      "\u001b[0;32m<ipython-input-19-a232aaa78191>\u001b[0m in \u001b[0;36m<module>\u001b[0;34m\u001b[0m\n\u001b[1;32m     15\u001b[0m \u001b[0;31m#     eu = edge_uniformity(X, G, samples)\u001b[0m\u001b[0;34m\u001b[0m\u001b[0;34m\u001b[0m\u001b[0;34m\u001b[0m\u001b[0m\n\u001b[1;32m     16\u001b[0m     loss = (\n\u001b[0;32m---> 17\u001b[0;31m           \u001b[0;36m1.0\u001b[0m \u001b[0;34m*\u001b[0m \u001b[0mO\u001b[0m\u001b[0;34m.\u001b[0m\u001b[0mstress\u001b[0m\u001b[0;34m(\u001b[0m\u001b[0mpos\u001b[0m\u001b[0;34m,\u001b[0m \u001b[0mD\u001b[0m\u001b[0;34m,\u001b[0m \u001b[0mW\u001b[0m\u001b[0;34m,\u001b[0m \u001b[0msampleSize\u001b[0m\u001b[0;34m)\u001b[0m\u001b[0;34m\u001b[0m\u001b[0;34m\u001b[0m\u001b[0m\n\u001b[0m\u001b[1;32m     18\u001b[0m \u001b[0;31m#         + 0.5 * O.edge_uniformity(pos, G, k2i, sampleSize)\u001b[0m\u001b[0;34m\u001b[0m\u001b[0;34m\u001b[0m\u001b[0;34m\u001b[0m\u001b[0m\n\u001b[1;32m     19\u001b[0m \u001b[0;34m\u001b[0m\u001b[0m\n",
      "\u001b[0;32m~/research/_reyan/graph-drawing/optimization.py\u001b[0m in \u001b[0;36mstress\u001b[0;34m(pos, D, W, n_samples)\u001b[0m\n\u001b[1;32m     43\u001b[0m         \u001b[0mx0\u001b[0m \u001b[0;34m=\u001b[0m \u001b[0mpos\u001b[0m\u001b[0;34m[\u001b[0m\u001b[0mi0\u001b[0m\u001b[0;34m,\u001b[0m\u001b[0;34m:\u001b[0m\u001b[0;34m]\u001b[0m\u001b[0;34m\u001b[0m\u001b[0;34m\u001b[0m\u001b[0m\n\u001b[1;32m     44\u001b[0m         \u001b[0mx1\u001b[0m \u001b[0;34m=\u001b[0m \u001b[0mpos\u001b[0m\u001b[0;34m[\u001b[0m\u001b[0mi1\u001b[0m\u001b[0;34m,\u001b[0m\u001b[0;34m:\u001b[0m\u001b[0;34m]\u001b[0m\u001b[0;34m\u001b[0m\u001b[0;34m\u001b[0m\u001b[0m\n\u001b[0;32m---> 45\u001b[0;31m         \u001b[0mD\u001b[0m \u001b[0;34m=\u001b[0m \u001b[0mtorch\u001b[0m\u001b[0;34m.\u001b[0m\u001b[0mtensor\u001b[0m\u001b[0;34m(\u001b[0m\u001b[0;34m[\u001b[0m\u001b[0mD\u001b[0m\u001b[0;34m[\u001b[0m\u001b[0mi\u001b[0m\u001b[0;34m,\u001b[0m\u001b[0mj\u001b[0m\u001b[0;34m]\u001b[0m \u001b[0;32mfor\u001b[0m \u001b[0mi\u001b[0m\u001b[0;34m,\u001b[0m \u001b[0mj\u001b[0m \u001b[0;32min\u001b[0m \u001b[0mzip\u001b[0m\u001b[0;34m(\u001b[0m\u001b[0mi0\u001b[0m\u001b[0;34m,\u001b[0m \u001b[0mi1\u001b[0m\u001b[0;34m)\u001b[0m\u001b[0;34m]\u001b[0m\u001b[0;34m)\u001b[0m\u001b[0;34m\u001b[0m\u001b[0;34m\u001b[0m\u001b[0m\n\u001b[0m\u001b[1;32m     46\u001b[0m         \u001b[0mW\u001b[0m \u001b[0;34m=\u001b[0m \u001b[0mtorch\u001b[0m\u001b[0;34m.\u001b[0m\u001b[0mtensor\u001b[0m\u001b[0;34m(\u001b[0m\u001b[0;34m[\u001b[0m\u001b[0mW\u001b[0m\u001b[0;34m[\u001b[0m\u001b[0mi\u001b[0m\u001b[0;34m,\u001b[0m\u001b[0mj\u001b[0m\u001b[0;34m]\u001b[0m \u001b[0;32mfor\u001b[0m \u001b[0mi\u001b[0m\u001b[0;34m,\u001b[0m \u001b[0mj\u001b[0m \u001b[0;32min\u001b[0m \u001b[0mzip\u001b[0m\u001b[0;34m(\u001b[0m\u001b[0mi0\u001b[0m\u001b[0;34m,\u001b[0m \u001b[0mi1\u001b[0m\u001b[0;34m)\u001b[0m\u001b[0;34m]\u001b[0m\u001b[0;34m)\u001b[0m\u001b[0;34m\u001b[0m\u001b[0;34m\u001b[0m\u001b[0m\n\u001b[1;32m     47\u001b[0m     \u001b[0;32melse\u001b[0m\u001b[0;34m:\u001b[0m\u001b[0;34m\u001b[0m\u001b[0;34m\u001b[0m\u001b[0m\n",
      "\u001b[0;32m~/research/_reyan/graph-drawing/optimization.py\u001b[0m in \u001b[0;36m<listcomp>\u001b[0;34m(.0)\u001b[0m\n\u001b[1;32m     43\u001b[0m         \u001b[0mx0\u001b[0m \u001b[0;34m=\u001b[0m \u001b[0mpos\u001b[0m\u001b[0;34m[\u001b[0m\u001b[0mi0\u001b[0m\u001b[0;34m,\u001b[0m\u001b[0;34m:\u001b[0m\u001b[0;34m]\u001b[0m\u001b[0;34m\u001b[0m\u001b[0;34m\u001b[0m\u001b[0m\n\u001b[1;32m     44\u001b[0m         \u001b[0mx1\u001b[0m \u001b[0;34m=\u001b[0m \u001b[0mpos\u001b[0m\u001b[0;34m[\u001b[0m\u001b[0mi1\u001b[0m\u001b[0;34m,\u001b[0m\u001b[0;34m:\u001b[0m\u001b[0;34m]\u001b[0m\u001b[0;34m\u001b[0m\u001b[0;34m\u001b[0m\u001b[0m\n\u001b[0;32m---> 45\u001b[0;31m         \u001b[0mD\u001b[0m \u001b[0;34m=\u001b[0m \u001b[0mtorch\u001b[0m\u001b[0;34m.\u001b[0m\u001b[0mtensor\u001b[0m\u001b[0;34m(\u001b[0m\u001b[0;34m[\u001b[0m\u001b[0mD\u001b[0m\u001b[0;34m[\u001b[0m\u001b[0mi\u001b[0m\u001b[0;34m,\u001b[0m\u001b[0mj\u001b[0m\u001b[0;34m]\u001b[0m \u001b[0;32mfor\u001b[0m \u001b[0mi\u001b[0m\u001b[0;34m,\u001b[0m \u001b[0mj\u001b[0m \u001b[0;32min\u001b[0m \u001b[0mzip\u001b[0m\u001b[0;34m(\u001b[0m\u001b[0mi0\u001b[0m\u001b[0;34m,\u001b[0m \u001b[0mi1\u001b[0m\u001b[0;34m)\u001b[0m\u001b[0;34m]\u001b[0m\u001b[0;34m)\u001b[0m\u001b[0;34m\u001b[0m\u001b[0;34m\u001b[0m\u001b[0m\n\u001b[0m\u001b[1;32m     46\u001b[0m         \u001b[0mW\u001b[0m \u001b[0;34m=\u001b[0m \u001b[0mtorch\u001b[0m\u001b[0;34m.\u001b[0m\u001b[0mtensor\u001b[0m\u001b[0;34m(\u001b[0m\u001b[0;34m[\u001b[0m\u001b[0mW\u001b[0m\u001b[0;34m[\u001b[0m\u001b[0mi\u001b[0m\u001b[0;34m,\u001b[0m\u001b[0mj\u001b[0m\u001b[0;34m]\u001b[0m \u001b[0;32mfor\u001b[0m \u001b[0mi\u001b[0m\u001b[0;34m,\u001b[0m \u001b[0mj\u001b[0m \u001b[0;32min\u001b[0m \u001b[0mzip\u001b[0m\u001b[0;34m(\u001b[0m\u001b[0mi0\u001b[0m\u001b[0;34m,\u001b[0m \u001b[0mi1\u001b[0m\u001b[0;34m)\u001b[0m\u001b[0;34m]\u001b[0m\u001b[0;34m)\u001b[0m\u001b[0;34m\u001b[0m\u001b[0;34m\u001b[0m\u001b[0m\n\u001b[1;32m     47\u001b[0m     \u001b[0;32melse\u001b[0m\u001b[0;34m:\u001b[0m\u001b[0;34m\u001b[0m\u001b[0;34m\u001b[0m\u001b[0m\n",
      "\u001b[0;31mKeyboardInterrupt\u001b[0m: "
     ]
    }
   ],
   "source": [
    "VIS = True\n",
    "gClamp = 0.1\n",
    "\n",
    "sampleSize = int(len(G.nodes))\n",
    "for i in iterBar:\n",
    "    \n",
    "    t0 = time.time()\n",
    "    optimizer.zero_grad()\n",
    "    \n",
    "#     samples = getSamples(G, 5, includeNeighbors=False)\n",
    "#     for si, src in enumerate(samples):\n",
    "#         for dst in samples[si+1:]:\n",
    "#             stress_update_ij(X, D, W, src, dst, getLR(i))\n",
    "            \n",
    "#     eu = edge_uniformity(X, G, samples)\n",
    "    loss = (\n",
    "          1.0 * O.stress(pos, D, W, sampleSize)\n",
    "#         + 0.5 * O.edge_uniformity(pos, G, k2i, sampleSize)\n",
    "        \n",
    "        ## TODO: do it efiiciently and stochastically\n",
    "#         + 0.5 * O.crossing_angle_maximization(pos, G, k2i, sampleSize)\n",
    "#         + 0.5 * O.neighborhood_preservation(pos, G, k2i, sampleSize)\n",
    "#         + 0.5 * O.crossings(pos, G, k2i, sampleSize)\n",
    "#         + 0.5 * O.aspect_ratio(pos, G, k2i, sampleSize)\n",
    "#         + 0.5 * O.angular_resolution(pos, G, k2i, sampleSize)\n",
    "    )\n",
    "    loss.backward()\n",
    "    pos.grad.clamp_(-gClamp, gClamp)\n",
    "    optimizer.step()\n",
    "    \n",
    "    if scheduler is not None:\n",
    "        scheduler.step()\n",
    "    \n",
    "    \n",
    "    \n",
    "    \n",
    "    \n",
    "    ##debug info\n",
    "    dt = time.time() - t0\n",
    "    totalTime += dt\n",
    "    if i % int(niter/100) == int(niter/100)-1:\n",
    "        iterBar.set_postfix({'loss': loss.item()})\n",
    "    lossHistory.append(loss.item())\n",
    "    \n",
    "    \n",
    "    ##vis\n",
    "    if VIS and i % int(niter/10) == int(niter/10)-1:\n",
    "        iterBar.set_postfix({\n",
    "            'loss': loss.item(),\n",
    "#             'eu': f'{eu.item():.2e}',\n",
    "#             'st': f'{st.item():.2e}',\n",
    "        })\n",
    "        \n",
    "        x = pos.detach().cpu().numpy()\n",
    "        pos_i = {k: x[k2i[k], :2] for k in G.nodes}\n",
    "        display.clear_output(wait=True)\n",
    "        vis.plot(G, pos_i, lossHistory, [], i, totalTime, show=True, save=True)\n"
   ]
  },
  {
   "cell_type": "code",
   "execution_count": null,
   "metadata": {},
   "outputs": [],
   "source": [
    "x = pos.detach().cpu().numpy()\n",
    "pos_i = {k: x[k2i[k], :2] for k in G.nodes}\n",
    "vis.plot(G, pos_i, lossHistory, [], i, totalTime, show=True, save=True)"
   ]
  },
  {
   "cell_type": "markdown",
   "metadata": {},
   "source": [
    "## animation"
   ]
  },
  {
   "cell_type": "code",
   "execution_count": null,
   "metadata": {},
   "outputs": [],
   "source": [
    "# Create a gif from images in fig/\n",
    "\n",
    "frames = []\n",
    "imgs = natsorted(glob('fig/*.png'))\n",
    "\n",
    "for img in imgs:\n",
    "    new_frame = Image.open(img)\n",
    "    frames.append(new_frame)\n",
    "\n",
    "# Save into a GIF file that loops forever\n",
    "frames[0].save(f'anim-{int(time.time())}.gif', format='GIF',\n",
    "               append_images=frames[1:],\n",
    "               save_all=True,\n",
    "               duration=100, loop=0)"
   ]
  },
  {
   "cell_type": "code",
   "execution_count": null,
   "metadata": {},
   "outputs": [],
   "source": []
  }
 ],
 "metadata": {
  "kernelspec": {
   "display_name": "Python 3",
   "language": "python",
   "name": "python3"
  },
  "language_info": {
   "codemirror_mode": {
    "name": "ipython",
    "version": 3
   },
   "file_extension": ".py",
   "mimetype": "text/x-python",
   "name": "python",
   "nbconvert_exporter": "python",
   "pygments_lexer": "ipython3",
   "version": "3.8.2"
  }
 },
 "nbformat": 4,
 "nbformat_minor": 2
}
