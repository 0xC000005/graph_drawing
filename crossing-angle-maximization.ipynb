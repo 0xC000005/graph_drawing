{
 "cells": [
  {
   "cell_type": "code",
   "execution_count": 1,
   "metadata": {},
   "outputs": [],
   "source": [
    "## custom\n",
    "import lovasz_losses as L\n",
    "\n",
    "## third party\n",
    "from PIL import Image\n",
    "from natsort import natsorted\n",
    "\n",
    "## sys\n",
    "import random\n",
    "import time\n",
    "from glob import glob\n",
    "\n",
    "## numeric\n",
    "import numpy as np\n",
    "import torch\n",
    "from torch import nn, optim\n",
    "import torch.nn.functional as F\n",
    "import umap.plot\n",
    "from umap import UMAP\n",
    "\n",
    "## vis\n",
    "import networkx as nx\n",
    "import matplotlib.pyplot as plt\n",
    "import matplotlib.animation as animation\n",
    "from matplotlib.colors import LinearSegmentedColormap\n",
    "from mpl_toolkits import mplot3d\n",
    "from matplotlib import collections  as mc\n",
    "from mpl_toolkits.mplot3d.art3d import Line3DCollection\n",
    "\n",
    "## notebook\n",
    "from IPython import display\n",
    "from tqdm import tqdm_notebook as tqdm\n",
    "\n",
    "device = torch.device('cuda') if torch.cuda.is_available() else torch.device('cpu')\n",
    "device = 'cpu'\n",
    "plt.style.use('ggplot')\n",
    "plt.style.use('seaborn-colorblind')"
   ]
  },
  {
   "cell_type": "markdown",
   "metadata": {},
   "source": [
    "## Utils"
   ]
  },
  {
   "cell_type": "code",
   "execution_count": 2,
   "metadata": {},
   "outputs": [
    {
     "data": {
      "text/plain": [
       "tensor([[2., 2., 2.],\n",
       "        [2., 2., 2.],\n",
       "        [2., 2., 2.],\n",
       "        [2., 2., 2.],\n",
       "        [2., 2., 2.]])"
      ]
     },
     "execution_count": 2,
     "metadata": {},
     "output_type": "execute_result"
    }
   ],
   "source": [
    "def colorScale2cmap(domain, range1):\n",
    "    domain = np.array(domain)\n",
    "    domain = (domain-domain.min())/(domain.max()-domain.min())\n",
    "    range1 = np.array(range1)/255.0\n",
    "    red = [r[0] for r in range1]\n",
    "    green = [r[1] for r in range1]\n",
    "    blue = [r[2] for r in range1]\n",
    "    red = tuple((d,r,r) for d,r in zip(domain, red))\n",
    "    green = tuple((d,r,r) for d,r in zip(domain, green))\n",
    "    blue = tuple((d,r,r) for d,r in zip(domain, blue))\n",
    "    return LinearSegmentedColormap('asdasdas', {'red':red, 'green': green, 'blue':blue})\n",
    "    \n",
    "\n",
    "#https://discuss.pytorch.org/t/efficient-distance-matrix-computation/9065/3\n",
    "def pairwise_distances(x, y=None, w=None):\n",
    "    '''\n",
    "    Input: x is a Nxd matrix\n",
    "           y is an optional Mxd matirx\n",
    "    Output: dist is a NxM matrix where dist[i,j] is the square norm between x[i,:] and y[j,:]\n",
    "            if y is not given then use 'y=x'.\n",
    "    i.e. dist[i,j] = ||x[i,:]-y[j,:]||^2\n",
    "    '''\n",
    "    x_norm = (x**2).sum(1).view(-1, 1)\n",
    "    if y is None:\n",
    "        y = x\n",
    "        y_t = y.t()\n",
    "        y_norm = x_norm\n",
    "    else:\n",
    "        y_t = y.t()\n",
    "        y_norm = (y**2).sum(1).view(1, -1)\n",
    "        \n",
    "    if w is not None:\n",
    "        x = x * w    \n",
    "        y = y * w    \n",
    "    dist = x_norm + y_norm - 2.0 * torch.mm(x, y_t)\n",
    "    return torch.clamp(dist, 0.0, np.inf)\n",
    "\n",
    "x = torch.ones([5,2])\n",
    "y = torch.zeros([3,2])\n",
    "pairwise_distances(x,y)"
   ]
  },
  {
   "cell_type": "code",
   "execution_count": 3,
   "metadata": {},
   "outputs": [],
   "source": [
    "def file2graph(fn='./facebook/0.edges'):\n",
    "    with open(fn) as f:\n",
    "        lines = [l.split()[:2] for l in f.readlines()]\n",
    "        edges = [tuple(int(i) for i in l) for l in lines]\n",
    "        nodes = set(sum(edges, ())) ## SLOW?\n",
    "#         edges += [(-1, n) for n in nodes]\n",
    "#         nodes.update({-1})\n",
    "    G = nx.Graph()\n",
    "    G.add_nodes_from(list(nodes))\n",
    "    G.add_edges_from(edges)\n",
    "    return G\n",
    "\n",
    "\n",
    "def dict2tensor(d, fill=None):\n",
    "    n = len(d.keys())\n",
    "    k2i = {k:i for i,k in enumerate(sorted(d.keys()))}\n",
    "    res = torch.zeros(len(d.keys()), len(d.keys()), device=device)\n",
    "    for src_node, dst_nodes in d.items():\n",
    "        for dst_node, distance in dst_nodes.items():\n",
    "            if fill is not None:\n",
    "                res[k2i[src_node],k2i[dst_node]] = fill\n",
    "            else:\n",
    "                res[k2i[src_node],k2i[dst_node]] = distance\n",
    "    return res, k2i\n",
    "\n",
    "\n",
    "def draw_graph_3d(ax, x, G, grad=None, alpha=0.1):\n",
    "    ax.scatter(x[:,0], x[:,1], x[:,2])\n",
    "    # ax.view_init(elev=20.0, azim=0)\n",
    "    edgeLines = [(x[k2i[e0]][:3], x[k2i[e1]][:3]) for e0,e1 in G.edges]\n",
    "    lc = Line3DCollection(edgeLines, linewidths=1, alpha=alpha)\n",
    "    ax.add_collection(lc)\n",
    "    if grad is not None:\n",
    "        ax.quiver(x[:,0], x[:,1], x[:,2], \n",
    "                 -grad[:,0], -grad[:,1], -grad[:,2], length=4, colors='C1')\n",
    "    return ax\n",
    "\n",
    "def plot(X, G, lossHistory, lrHistory, i, totalTime, show=False, save=True, grad=False):\n",
    "    x = X.detach().cpu().numpy()\n",
    "    \n",
    "    if grad:\n",
    "        grad = X.grad.data.cpu().numpy()\n",
    "    else:\n",
    "        grad = None\n",
    "        \n",
    "    fig = plt.figure(figsize=[12,5])\n",
    "    if show:\n",
    "        display.clear_output(wait=True)\n",
    "\n",
    "    ## graph\n",
    "    if x.shape[1] == 2:\n",
    "        plt.subplot(121)\n",
    "        nx.draw_networkx(G, \n",
    "                         pos={k: x[k2i[k],:2] for k in G.nodes}, \n",
    "                         node_size=30,\n",
    "                         font_color='none')\n",
    "        if grad is not None:\n",
    "            plt.quiver(x[:,0], x[:,1], \n",
    "                       -grad[:,0], -grad[:,1], \n",
    "                       units='inches', label=f'neg grad (max={np.linalg.norm(grad, axis=1).max():.2e})')\n",
    "            plt.legend()\n",
    "        plt.axis('equal')\n",
    "        \n",
    "    else:\n",
    "        ax = fig.add_subplot(1,2,1, projection='3d')\n",
    "        ax = draw_graph_3d(ax, x, G, grad, alpha=0.01)\n",
    "    plt.title(f'epoch: {i}, time: {int(totalTime)}s'.format(i))\n",
    "\n",
    "    ## loss\n",
    "    plt.subplot(122)\n",
    "    plt.plot(lossHistory)\n",
    "    plt.xlabel('Epoch')\n",
    "    plt.ylabel('Loss')\n",
    "    \n",
    "    ## Lr\n",
    "#     plt.subplot(224)\n",
    "#     plt.plot(lrHistory)\n",
    "#     plt.xlabel('Epoch')\n",
    "#     plt.ylabel('LR')\n",
    "\n",
    "    if save:\n",
    "        plt.savefig(f'fig/epoch{i}.png')\n",
    "    \n",
    "    if show:\n",
    "        plt.show()\n",
    "    else:\n",
    "        plt.close()\n",
    "\n",
    "\n",
    "\n",
    "colors = [\n",
    "    [44,52,179],\n",
    "    [0,0,0],\n",
    "    [174,33,57],\n",
    "]"
   ]
  },
  {
   "cell_type": "markdown",
   "metadata": {},
   "source": [
    "## Optimization Procedures"
   ]
  },
  {
   "cell_type": "code",
   "execution_count": 56,
   "metadata": {},
   "outputs": [],
   "source": [
    "## model\n",
    "def update_stress(X, D, W, i, j, base_lr=1):\n",
    "    with torch.no_grad():\n",
    "        diff = X[i] - X[j]\n",
    "        norm = diff.norm()\n",
    "        r = (norm-D[i,j]) / 2  / (norm+0.001) * diff\n",
    "        final_lr = min(0.99, base_lr * W[i,j])\n",
    "        grad_xi = r\n",
    "        grad_xj = -r\n",
    "\n",
    "        X[i].data -= final_lr * grad_xi\n",
    "        X[j].data -= final_lr * grad_xj\n",
    "\n",
    "        \n",
    "def stress(X, D, W):\n",
    "    res = 0\n",
    "    for i in range(0,X.shape[0]):\n",
    "        for j in range(i+1, X.shape[0]):\n",
    "            dist = (X[i] - X[j]).norm()\n",
    "            s = W[i,j] * (dist-D[i,j])**2\n",
    "            if not np.isinf(s):\n",
    "                res += s\n",
    "    return res.item()"
   ]
  },
  {
   "cell_type": "code",
   "execution_count": 59,
   "metadata": {},
   "outputs": [],
   "source": [
    "def sign(p, line):\n",
    "    (x, y) = p\n",
    "    (x1,y1), (x2, y2) = line\n",
    "    s = (x-x1)*(y2-y1) + (y-y1)*(x1-x2)\n",
    "    return 1 if s>0 else -1\n",
    "\n",
    "def is_same_side(p1, p2, line):\n",
    "    sign1 = sign(p1, line)\n",
    "    sign2 = sign(p2, line)\n",
    "    return sign1 * sign2\n",
    "\n",
    "\n",
    "def has_crossing(line1, line2):\n",
    "    ss1 = is_same_side(line1[0], line1[1], line2)\n",
    "    ss2 = is_same_side(line2[0], line2[1], line1)\n",
    "    return ss1<0 and ss2<0\n",
    "\n",
    "\n",
    "def update_angle(X, i, j, k, l, base_lr=1, direction='orthogonal'):\n",
    "#     https://arxiv.org/abs/1012.4559\n",
    "    with torch.no_grad():\n",
    "        pass\n",
    "    \n",
    "    \n",
    "    \n",
    "# from time import sleep\n",
    "# X = torch.rand(len(G.nodes), 2, device=device)\n",
    "# for e1 in G.edges:\n",
    "#     for e2 in G.edges:\n",
    "#         edge1 = X[e1,:]\n",
    "#         edge2 = X[e2,:]\n",
    "#         c = has_crossing(edge1, edge2)"
   ]
  },
  {
   "cell_type": "markdown",
   "metadata": {},
   "source": [
    "## generate a graph"
   ]
  },
  {
   "cell_type": "code",
   "execution_count": 68,
   "metadata": {
    "collapsed": true
   },
   "outputs": [
    {
     "name": "stdout",
     "output_type": "stream",
     "text": [
      "generating graph...\n",
      "63 nodes\n",
      "calculating all pairs shortest path...\n",
      "\n",
      "\n",
      "\n",
      "CPU times: user 29.4 ms, sys: 0 ns, total: 29.4 ms\n",
      "Wall time: 28.6 ms\n"
     ]
    }
   ],
   "source": [
    "%%time\n",
    "\n",
    "print('generating graph...')\n",
    "# G = nx.path_graph(10)\n",
    "# G = nx.cycle_graph(100)\n",
    "G = nx.balanced_tree(2,5)\n",
    "# G = nx.connected_watts_strogatz_graph(10,5,0.5)\n",
    "# G = file2graph('./facebook/0.edges')\n",
    "# G = file2graph('./facebook/107.edges')\n",
    "# G = file2graph('./facebook/414.edges')\n",
    "print(len(G.nodes), 'nodes')\n",
    "\n",
    "print('calculating all pairs shortest path...')\n",
    "D, k2i = dict2tensor(dict(nx.all_pairs_shortest_path_length(G)))\n",
    "W = 1/D**2\n",
    "\n",
    "Adj,_ = dict2tensor(dict(G.adjacency()), fill=1)\n",
    "print('\\n\\n')\n",
    "\n",
    "neighborSizes = Adj.sum(dim=1).int()\n",
    "nodeCount = Adj.shape[0]\n",
    "eye = torch.eye(Adj.shape[0], device=device)\n",
    "truth = Adj + eye\n",
    "edges = list(G.edges)\n"
   ]
  },
  {
   "cell_type": "markdown",
   "metadata": {},
   "source": [
    "## Optimize via Stochastic Gradient Descent (SGD)"
   ]
  },
  {
   "cell_type": "code",
   "execution_count": 6,
   "metadata": {},
   "outputs": [
    {
     "data": {
      "text/plain": [
       "[<matplotlib.lines.Line2D at 0x7fef91038ac8>]"
      ]
     },
     "execution_count": 6,
     "metadata": {},
     "output_type": "execute_result"
    },
    {
     "data": {
      "image/png": "[encoded data removed]",
      "text/plain": [
       "<Figure size 432x288 with 1 Axes>"
      ]
     },
     "metadata": {
      "needs_background": "light"
     },
     "output_type": "display_data"
    }
   ],
   "source": [
    "# delete old\n",
    "!rm -r fig\n",
    "!mkdir fig\n",
    "\n",
    "X = torch.rand(len(G.nodes), 2, device=device)\n",
    "\n",
    "##functions\n",
    "stressHistory = []\n",
    "\n",
    "niter = 150000\n",
    "totalTime = 0\n",
    "\n",
    "def getLR(i):\n",
    "    base_lr = 1\n",
    "    return np.exp(-i/niter*5) * base_lr\n",
    "lrs = [getLR(i) for i in range(niter)]\n",
    "plt.plot(lrs)"
   ]
  },
  {
   "cell_type": "code",
   "execution_count": 67,
   "metadata": {},
   "outputs": [
    {
     "data": {
      "text/plain": [
       "[(18, 38), (3, 7)]"
      ]
     },
     "execution_count": 67,
     "metadata": {},
     "output_type": "execute_result"
    }
   ],
   "source": [
    "\n"
   ]
  },
  {
   "cell_type": "code",
   "execution_count": 80,
   "metadata": {},
   "outputs": [
    {
     "data": {
      "application/vnd.jupyter.widget-view+json": {
       "model_id": "75733557aab74755aa1f48ce6cd74dc5",
       "version_major": 2,
       "version_minor": 0
      },
      "text/plain": [
       "HBox(children=(IntProgress(value=0, max=150000), HTML(value='')))"
      ]
     },
     "metadata": {},
     "output_type": "display_data"
    },
    {
     "name": "stdout",
     "output_type": "stream",
     "text": [
      "(12, 25) (4, 10)\n"
     ]
    }
   ],
   "source": [
    "iterBar = tqdm(range(niter))\n",
    "for i in iterBar:\n",
    "    \n",
    "    t0 = time.time()\n",
    "    e1, e2 = random.choices(edges, k=2)\n",
    "    while not has_crossing(X[e1,:], X[e2,:]):\n",
    "        e1, e2 = random.choices(edges, k=2)\n",
    "    lr = getLR(i)\n",
    "    ## TODO start from here\n",
    "#     update_angle_ij(X, D, W, src, dst, lr=lr)\n",
    "\n",
    "#     dt = time.time() - t0\n",
    "#     totalTime += dt\n",
    "    \n",
    "#     ##debug info\n",
    "#     if (X != X).any():\n",
    "#         print('nan encountered')\n",
    "#         break\n",
    "#     ##vis\n",
    "#     if i%500==0:\n",
    "# #         s = stress(X, D, W)\n",
    "# #         stressHistory.append(s)\n",
    "# #         iterBar.set_postfix({'stress': s, })\n",
    "#         plot(X, G, stressHistory, [], i, totalTime, show=False, save=True, grad=False)\n",
    "    "
   ]
  },
  {
   "cell_type": "code",
   "execution_count": 8,
   "metadata": {},
   "outputs": [
    {
     "data": {
      "image/png": "[encoded data removed]",
      "text/plain": [
       "<Figure size 864x360 with 2 Axes>"
      ]
     },
     "metadata": {
      "needs_background": "light"
     },
     "output_type": "display_data"
    }
   ],
   "source": [
    "plot(X, G, [], [], i, totalTime, show=True, save=True, grad=False)"
   ]
  },
  {
   "cell_type": "markdown",
   "metadata": {},
   "source": [
    "## animation"
   ]
  },
  {
   "cell_type": "code",
   "execution_count": 494,
   "metadata": {},
   "outputs": [],
   "source": [
    "# Create a gif from images in fig/\n",
    "\n",
    "frames = []\n",
    "imgs = natsorted(glob('fig/*.png'))\n",
    "\n",
    "for img in imgs:\n",
    "    new_frame = Image.open(img)\n",
    "    frames.append(new_frame)\n",
    "\n",
    "# Save into a GIF file that loops forever\n",
    "frames[0].save(f'anim-{int(time.time())}.gif', format='GIF',\n",
    "               append_images=frames[1:],\n",
    "               save_all=True,\n",
    "               duration=100, loop=0)"
   ]
  },
  {
   "cell_type": "code",
   "execution_count": null,
   "metadata": {},
   "outputs": [],
   "source": []
  }
 ],
 "metadata": {
  "kernelspec": {
   "display_name": "Python 3",
   "language": "python",
   "name": "python3"
  },
  "language_info": {
   "codemirror_mode": {
    "name": "ipython",
    "version": 3
   },
   "file_extension": ".py",
   "mimetype": "text/x-python",
   "name": "python",
   "nbconvert_exporter": "python",
   "pygments_lexer": "ipython3",
   "version": "3.6.6"
  }
 },
 "nbformat": 4,
 "nbformat_minor": 2
}
