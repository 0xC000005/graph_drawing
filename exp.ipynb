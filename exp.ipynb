{
 "cells": [
  {
   "cell_type": "code",
   "execution_count": 1,
   "metadata": {},
   "outputs": [],
   "source": [
    "import torch\n",
    "from torch import nn, optim\n",
    "import torch.nn.functional as F\n",
    "\n",
    "import random\n",
    "import networkx as nx\n",
    "import time\n",
    "import numpy as np\n",
    "import matplotlib.pyplot as plt\n",
    "from IPython import display\n",
    "from tqdm import tqdm_notebook as tqdm\n",
    "\n",
    "device = torch.device('cuda') if torch.cuda.is_available() else torch.device('cpu')\n",
    "\n",
    "plt.style.use('ggplot')\n",
    "plt.style.use('seaborn-colorblind')"
   ]
  },
  {
   "cell_type": "markdown",
   "metadata": {},
   "source": [
    "## Utils"
   ]
  },
  {
   "cell_type": "code",
   "execution_count": 2,
   "metadata": {},
   "outputs": [],
   "source": [
    "#https://discuss.pytorch.org/t/efficient-distance-matrix-computation/9065/3\n",
    "def pairwise_distances(x, y=None, w=None):\n",
    "    '''\n",
    "    Input: x is a Nxd matrix\n",
    "           y is an optional Mxd matirx\n",
    "    Output: dist is a NxM matrix where dist[i,j] is the square norm between x[i,:] and y[j,:]\n",
    "            if y is not given then use 'y=x'.\n",
    "    i.e. dist[i,j] = ||x[i,:]-y[j,:]||^2\n",
    "    '''\n",
    "    \n",
    "    x_norm = (x**2).sum(1).view(-1, 1)\n",
    "    if y is None:\n",
    "        y = x\n",
    "        y_t = y.t()\n",
    "        y_norm = x_norm\n",
    "    if w is not None:\n",
    "        x = x * w    \n",
    "        y = y * w    \n",
    "    dist = x_norm + y_norm - 2.0 * torch.mm(x, y_t)\n",
    "    return torch.clamp(dist, 0.0, np.inf)\n",
    "\n",
    "\n",
    "def file2graph(fn='./facebook/0.edges'):\n",
    "    with open(fn) as f:\n",
    "        lines = [l.split()[:2] for l in f.readlines()]\n",
    "        edges = [tuple(int(i) for i in l) for l in lines]\n",
    "        nodes = set(sum(edges, ())) ## SLOW?\n",
    "#         edges += [(-1, n) for n in nodes]\n",
    "#         nodes.update({-1})\n",
    "    G = nx.Graph()\n",
    "    G.add_nodes_from(list(nodes))\n",
    "    G.add_edges_from(edges)\n",
    "    return G\n",
    "\n",
    "\n",
    "def dict2tensor(d, fill=None):\n",
    "    n = len(d.keys())\n",
    "    k2i = {k:i for i,k in enumerate(sorted(d.keys()))}\n",
    "    res = torch.zeros(len(d.keys()), len(d.keys()), device=device)\n",
    "    for src_node, dst_nodes in d.items():\n",
    "        for dst_node, distance in dst_nodes.items():\n",
    "            if fill is not None:\n",
    "                res[k2i[src_node],k2i[dst_node]] = fill\n",
    "            else:\n",
    "                res[k2i[src_node],k2i[dst_node]] = distance\n",
    "    return res, k2i"
   ]
  },
  {
   "cell_type": "markdown",
   "metadata": {},
   "source": [
    "## Optimization Procedures"
   ]
  },
  {
   "cell_type": "code",
   "execution_count": 3,
   "metadata": {},
   "outputs": [],
   "source": [
    "# def stress_minimization(X, D, Adj, optimizer, max_iter=10):\n",
    "#     def stress(x, d, adjacency):\n",
    "#         pdist = pairwise_distances(x)\n",
    "#         s = ((pdist - d)**2).mean()\n",
    "#         return s\n",
    "\n",
    "#     for i in range(max_iter):\n",
    "#         s = stress(X, D, Adj)\n",
    "#         s.backward()\n",
    "#         optimizer.step()\n",
    "#         X.grad.data.fill_(0)\n",
    "#     return X, s"
   ]
  },
  {
   "cell_type": "code",
   "execution_count": 4,
   "metadata": {},
   "outputs": [
    {
     "name": "stdout",
     "output_type": "stream",
     "text": [
      "jaccard index: 1.0\n",
      " jaccard loss: 0.0\n",
      "  lovasz loss: tensor(0., grad_fn=<AddBackward0>)\n"
     ]
    }
   ],
   "source": [
    "def neighbor_preservation_bce(X, Adj, optimizer, max_iter=10, w=None):\n",
    "    \n",
    "    sigmoid = nn.Sigmoid()\n",
    "    neighborSizes = Adj.sum(dim=1).int()\n",
    "    nodeCount = Adj.shape[0]\n",
    "    \n",
    "    def euclidean_neighbor(x):\n",
    "        pdist = pairwise_distances(x, w=w)\n",
    "        res = torch.zeros([x.shape[0],x.shape[0]], device=device)\n",
    "        for i, [distances, ns] in enumerate(zip(pdist, neighborSizes)):\n",
    "#             print(distances.shape, nodeCount, ns.item())\n",
    "            topk = distances.topk(nodeCount-ns.item())\n",
    "            thresh = topk.values[-2:].mean()\n",
    "            scale = 2.0\n",
    "            res[i,:] = 1-sigmoid((distances-thresh) * scale)\n",
    "        return res\n",
    "\n",
    "    bce = nn.BCELoss()\n",
    "    for i in range(max_iter):\n",
    "        pred = euclidean_neighbor(X)\n",
    "        truth = Adj\n",
    "        eye = torch.eye(pred.shape[0], device=device)\n",
    "        pred *= (1-eye)\n",
    "        loss = bce(pred, truth)\n",
    "        loss.backward()\n",
    "        optimizer.step()\n",
    "        X.grad.data.fill_(0)\n",
    "        \n",
    "    return X, loss, pred\n",
    "\n",
    "\n",
    "\n",
    "def neighbor_preservation(X, Adj, optimizer, max_iter=10, w=None):\n",
    "    \n",
    "    sigmoid = nn.Sigmoid()\n",
    "    neighborSizes = Adj.sum(dim=1).int()\n",
    "    nodeCount = Adj.shape[0]\n",
    "\n",
    "    def model(x):\n",
    "        pdist = pairwise_distances(x, w=w)\n",
    "        res = pdist.max() - pdist\n",
    "        return res\n",
    "\n",
    "    jaccard_loss = lovasz(hingeError) #option 3 (slow and does not work as expected)\n",
    "\n",
    "    for i in range(max_iter):\n",
    "        pred = model(X)\n",
    "        truth = Adj\n",
    "        eye = torch.eye(pred.shape[0], device=device)\n",
    "        pred *= (1-eye)\n",
    "        loss = jaccard_loss(pred.view(-1), truth.view(-1))\n",
    "        loss.backward()\n",
    "        optimizer.step()\n",
    "        X.grad.data.fill_(0)\n",
    "    \n",
    "    return X, loss, pred\n",
    "\n",
    "\n",
    "relu = nn.ReLU()\n",
    "def hingeError(pred, target):\n",
    "    pred = pred*2-1\n",
    "    target = target*2-1\n",
    "    return relu(1-pred*target)/2\n",
    "\n",
    "\n",
    "def jaccardIndex(pred, target):\n",
    "    intersect = pred*target\n",
    "    union = (pred+target).clamp(0,1)\n",
    "    j = intersect.sum() / union.sum()\n",
    "    return j\n",
    "\n",
    "\n",
    "def lovasz(error_func=hingeError):\n",
    "    def jaccardLoss(error, target):\n",
    "        union = (error+target).clamp(0,1)\n",
    "        return error.sum() / union.sum()\n",
    "    \n",
    "    def f(pred, target):\n",
    "        error = error_func(pred, target)\n",
    "        sorted_error = torch.sort(error)\n",
    "        values, indices = sorted_error.values, sorted_error.indices\n",
    "        loss = 0\n",
    "        for i in range(values.shape[0], 0, -1):\n",
    "            error0 = error.clone()\n",
    "            error1 = error.clone()\n",
    "            error1[indices[:i-1]] = 0\n",
    "            error1[indices[i-1:]] = 1\n",
    "            error0[indices[:i]] = 0\n",
    "            error0[indices[i:]] = 1\n",
    "            weight = values[i-1]\n",
    "            margin = (jaccardLoss(error1, target) - jaccardLoss(error0, target)).detach()\n",
    "            loss += weight * margin\n",
    "        return loss\n",
    "    return f\n",
    "\n",
    "## test:\n",
    "pred   = torch.tensor([1.0, 0, 0, 0, 1, 1], requires_grad=True)\n",
    "target = torch.tensor([1.0, 0 ,0, 0, 1, 1])\n",
    "f = lovasz()\n",
    "print('jaccard index:', jaccardIndex(pred, target).item())\n",
    "print(' jaccard loss:', 1-jaccardIndex(pred, target).item())\n",
    "print('  lovasz loss:', f(pred, target))"
   ]
  },
  {
   "cell_type": "markdown",
   "metadata": {},
   "source": [
    "## generate a graph"
   ]
  },
  {
   "cell_type": "code",
   "execution_count": 5,
   "metadata": {
    "scrolled": false
   },
   "outputs": [
    {
     "name": "stdout",
     "output_type": "stream",
     "text": [
      "generating graph...\n",
      "calculating all pairs shortest path...\n",
      "CPU times: user 3.18 s, sys: 985 ms, total: 4.17 s\n",
      "Wall time: 4.16 s\n"
     ]
    }
   ],
   "source": [
    "%%time\n",
    "\n",
    "print('generating graph...')\n",
    "# G = nx.path_graph(10)\n",
    "G = nx.cycle_graph(10)\n",
    "# G = nx.balanced_tree(2,4)\n",
    "# G = nx.connected_watts_strogatz_graph(10,5,0.5)\n",
    "# G = file2graph('./facebook/0.edges')\n",
    "\n",
    "print('calculating all pairs shortest path...')\n",
    "D,k2i = dict2tensor(dict(nx.all_pairs_shortest_path_length(G)))\n",
    "Adj,_ = dict2tensor(dict(G.adjacency()), fill=1)"
   ]
  },
  {
   "cell_type": "markdown",
   "metadata": {},
   "source": [
    "## Optimize via Stochastic Gradient Descent (SGD)"
   ]
  },
  {
   "cell_type": "code",
   "execution_count": 23,
   "metadata": {},
   "outputs": [],
   "source": [
    "!rm -r fig\n",
    "!mkdir fig"
   ]
  },
  {
   "cell_type": "code",
   "execution_count": 26,
   "metadata": {},
   "outputs": [],
   "source": [
    "X = torch.randn(len(G.nodes), 2, requires_grad = True, device=device)\n",
    "\n",
    "# stress_optimizer = optim.SGD([X], lr=0.01)\n",
    "neighbor_optimizer = optim.SGD([X], lr=0.03)\n",
    "lossHistory = []\n",
    "\n",
    "# def schedule(i, n):\n",
    "#     return np.exp(-i/n*2)\n",
    "# niter = 200\n",
    "# i=np.linspace(0, niter, niter+1)\n",
    "# plt.plot(i, schedule(i, niter))"
   ]
  },
  {
   "cell_type": "code",
   "execution_count": 27,
   "metadata": {},
   "outputs": [
    {
     "data": {
      "image/png": "[encoded data removed]",
      "text/plain": [
       "<Figure size 1008x720 with 8 Axes>"
      ]
     },
     "metadata": {
      "needs_background": "light"
     },
     "output_type": "display_data"
    },
    {
     "name": "stdout",
     "output_type": "stream",
     "text": [
      "\n"
     ]
    }
   ],
   "source": [
    "niter = 100\n",
    "for i in tqdm(range(niter)):\n",
    "    \n",
    "    ## option 1: stress minimization\n",
    "#     X, stress = stress_minimization(X, D, Adj, stress_optimizer, max_iter=10)\n",
    "\n",
    "    ## option 2: neighbor preservation\n",
    "#     w = torch.tensor([1.0, 1.0, schedule(i, niter), schedule(i, niter)], device=device)\n",
    "    X, loss, pred = neighbor_preservation(X, Adj, neighbor_optimizer, max_iter=5, w=None)\n",
    "    \n",
    "    ## debug & vis\n",
    "    lossHistory.append(loss.item())\n",
    "    if i%20==19:\n",
    "        print(loss.item())\n",
    "        x = X.detach().cpu().numpy()\n",
    "        \n",
    "        display.clear_output(wait=True)\n",
    "        plt.figure(figsize=[14, 10])\n",
    "\n",
    "        ## graph\n",
    "        plt.subplot(221)\n",
    "        nx.draw_networkx(G, pos={k: x[k2i[k],:2] for k in G.nodes}, font_color='white')\n",
    "        plt.axis('equal')\n",
    "        plt.title('epoch: {}'.format(i))\n",
    "\n",
    "        ## loss\n",
    "        plt.subplot(222)\n",
    "        plt.plot(lossHistory)\n",
    "        plt.xlabel('Epoch')\n",
    "        plt.ylabel('Loss')\n",
    "\n",
    "\n",
    "        ## pred vs truth\n",
    "        plt.subplot(234)\n",
    "#         pdist = pairwise_distances(X)\n",
    "#         pdist = pdist / pdist.max(dim=1, keepdim=True).values\n",
    "#         pdist = pdist.detach().cpu()\n",
    "#         plt.imshow(1-pdist)\n",
    "        pdist = pairwise_distances(X)\n",
    "        pdist = pdist.detach().cpu()\n",
    "        plt.imshow(pdist.max()-pdist-np.eye(pdist.shape[0]))\n",
    "        plt.title('max - distance')\n",
    "        plt.colorbar()\n",
    "\n",
    "        plt.subplot(235)\n",
    "        plt.imshow(pred.detach().cpu())\n",
    "        plt.title('Prediction')\n",
    "        plt.colorbar()\n",
    "        \n",
    "        plt.subplot(236)\n",
    "        plt.imshow(Adj.detach().cpu())\n",
    "        plt.colorbar()\n",
    "        plt.title('Ground Truth')\n",
    "        \n",
    "        plt.savefig(f'fig/epoch{i}.png')\n",
    "        plt.show()"
   ]
  },
  {
   "cell_type": "code",
   "execution_count": null,
   "metadata": {},
   "outputs": [],
   "source": []
  }
 ],
 "metadata": {
  "kernelspec": {
   "display_name": "Python 3",
   "language": "python",
   "name": "python3"
  },
  "language_info": {
   "codemirror_mode": {
    "name": "ipython",
    "version": 3
   },
   "file_extension": ".py",
   "mimetype": "text/x-python",
   "name": "python",
   "nbconvert_exporter": "python",
   "pygments_lexer": "ipython3",
   "version": "3.6.8"
  }
 },
 "nbformat": 4,
 "nbformat_minor": 2
}
