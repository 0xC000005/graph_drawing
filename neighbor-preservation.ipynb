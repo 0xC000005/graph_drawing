{
 "cells": [
  {
   "cell_type": "code",
   "execution_count": 71,
   "metadata": {},
   "outputs": [],
   "source": [
    "\n",
    "\n",
    "## custom\n",
    "import lovasz_losses as L\n",
    "\n",
    "## third party\n",
    "from PIL import Image\n",
    "from natsort import natsorted\n",
    "\n",
    "## sys\n",
    "import random\n",
    "import time\n",
    "from glob import glob\n",
    "\n",
    "## numeric\n",
    "import numpy as np\n",
    "import torch\n",
    "from torch import nn, optim\n",
    "import torch.nn.functional as F\n",
    "\n",
    "## vis\n",
    "import networkx as nx\n",
    "import matplotlib.pyplot as plt\n",
    "import matplotlib.animation as animation\n",
    "from matplotlib.colors import LinearSegmentedColormap\n",
    "from mpl_toolkits import mplot3d\n",
    "from matplotlib import collections  as mc\n",
    "from mpl_toolkits.mplot3d.art3d import Line3DCollection\n",
    "\n",
    "## notebook\n",
    "from IPython import display\n",
    "from tqdm import tqdm_notebook as tqdm\n",
    "\n",
    "device = torch.device('cuda') if torch.cuda.is_available() else torch.device('cpu')\n",
    "\n",
    "plt.style.use('ggplot')\n",
    "plt.style.use('seaborn-colorblind')"
   ]
  },
  {
   "cell_type": "markdown",
   "metadata": {},
   "source": [
    "## Utils"
   ]
  },
  {
   "cell_type": "code",
   "execution_count": 58,
   "metadata": {},
   "outputs": [
    {
     "data": {
      "text/plain": [
       "tensor([[2., 2., 2.],\n",
       "        [2., 2., 2.],\n",
       "        [2., 2., 2.],\n",
       "        [2., 2., 2.],\n",
       "        [2., 2., 2.]])"
      ]
     },
     "execution_count": 58,
     "metadata": {},
     "output_type": "execute_result"
    }
   ],
   "source": [
    "def colorScale2cmap(domain, range1):\n",
    "    domain = np.array(domain)\n",
    "    domain = (domain-domain.min())/(domain.max()-domain.min())\n",
    "    range1 = np.array(range1)/255.0\n",
    "    red = [r[0] for r in range1]\n",
    "    green = [r[1] for r in range1]\n",
    "    blue = [r[2] for r in range1]\n",
    "    red = tuple((d,r,r) for d,r in zip(domain, red))\n",
    "    green = tuple((d,r,r) for d,r in zip(domain, green))\n",
    "    blue = tuple((d,r,r) for d,r in zip(domain, blue))\n",
    "    return LinearSegmentedColormap('asdasdas', {'red':red, 'green': green, 'blue':blue})\n",
    "    \n",
    "\n",
    "#https://discuss.pytorch.org/t/efficient-distance-matrix-computation/9065/3\n",
    "def pairwise_distances(x, y=None, w=None):\n",
    "    '''\n",
    "    Input: x is a Nxd matrix\n",
    "           y is an optional Mxd matirx\n",
    "    Output: dist is a NxM matrix where dist[i,j] is the square norm between x[i,:] and y[j,:]\n",
    "            if y is not given then use 'y=x'.\n",
    "    i.e. dist[i,j] = ||x[i,:]-y[j,:]||^2\n",
    "    '''\n",
    "    x_norm = (x**2).sum(1).view(-1, 1)\n",
    "    if y is None:\n",
    "        y = x\n",
    "        y_t = y.t()\n",
    "        y_norm = x_norm\n",
    "    else:\n",
    "        y_t = y.t()\n",
    "        y_norm = (y**2).sum(1).view(1, -1)\n",
    "        \n",
    "    if w is not None:\n",
    "        x = x * w    \n",
    "        y = y * w    \n",
    "    dist = x_norm + y_norm - 2.0 * torch.mm(x, y_t)\n",
    "    return torch.clamp(dist, 0.0, np.inf)\n",
    "\n",
    "x = torch.ones([5,2])\n",
    "y = torch.zeros([3,2])\n",
    "pairwise_distances(x,y)"
   ]
  },
  {
   "cell_type": "code",
   "execution_count": 169,
   "metadata": {},
   "outputs": [],
   "source": [
    "def file2graph(fn='./facebook/0.edges'):\n",
    "    with open(fn) as f:\n",
    "        lines = [l.split()[:2] for l in f.readlines()]\n",
    "        edges = [tuple(int(i) for i in l) for l in lines]\n",
    "        nodes = set(sum(edges, ())) ## SLOW?\n",
    "#         edges += [(-1, n) for n in nodes]\n",
    "#         nodes.update({-1})\n",
    "    G = nx.Graph()\n",
    "    G.add_nodes_from(list(nodes))\n",
    "    G.add_edges_from(edges)\n",
    "    return G\n",
    "\n",
    "\n",
    "def dict2tensor(d, fill=None):\n",
    "    n = len(d.keys())\n",
    "    k2i = {k:i for i,k in enumerate(sorted(d.keys()))}\n",
    "    res = torch.zeros(len(d.keys()), len(d.keys()), device=device)\n",
    "    for src_node, dst_nodes in d.items():\n",
    "        for dst_node, distance in dst_nodes.items():\n",
    "            if fill is not None:\n",
    "                res[k2i[src_node],k2i[dst_node]] = fill\n",
    "            else:\n",
    "                res[k2i[src_node],k2i[dst_node]] = distance\n",
    "    return res, k2i\n",
    "\n",
    "\n",
    "def draw_graph_3d(ax, x, G, grad=None):\n",
    "    ax.scatter(x[:,0], x[:,1], x[:,2])\n",
    "    # ax.view_init(elev=20.0, azim=0)\n",
    "    edgeLines = [(x[e0][:3], x[e1][:3]) for e0,e1 in G.edges]\n",
    "    lc = Line3DCollection(edgeLines, linewidths=1)\n",
    "    ax.add_collection(lc)\n",
    "    if grad is not None:\n",
    "        ax.quiver(x[:,0], x[:,1], x[:,2], \n",
    "                 -grad[:,0], -grad[:,1], -grad[:,2], length=4, colors='C1')\n",
    "    return ax\n",
    "\n",
    "\n",
    "def plot(x, pred, G, Adj, lossHistory, jaccardHistory, i):\n",
    "    x = X.detach().cpu().numpy()\n",
    "    grad = X.grad.data.cpu().numpy()\n",
    "    print(f'loss: {loss.item()}')\n",
    "    print(f'max grad: {np.abs(grad).max()}')\n",
    "    fig = plt.figure(figsize=[14,10])\n",
    "#         display.clear_output(wait=True)\n",
    "\n",
    "    ## graph\n",
    "    if x.shape[1] == 2:\n",
    "        plt.subplot(231)\n",
    "        nx.draw_networkx(G, pos={k: x[k2i[k],:2] for k in G.nodes}, font_color='white')\n",
    "        plt.quiver(x[:,0], x[:,1], \n",
    "                   -grad[:,0], -grad[:,1], \n",
    "                   units='inches', label=f'neg grad (max={np.linalg.norm(grad, axis=1).max():.2e})')\n",
    "        plt.axis('equal')\n",
    "        plt.legend()  \n",
    "    else:\n",
    "        ax = fig.add_subplot(2,3,1, projection='3d')\n",
    "        ax = draw_graph_3d(ax, x, G, grad)\n",
    "    plt.title('epoch: {}'.format(i))\n",
    "\n",
    "    ## loss\n",
    "    plt.subplot(232)\n",
    "    plt.plot(lossHistory)\n",
    "    plt.xlabel('Epoch')\n",
    "    plt.ylabel('Loss')\n",
    "    \n",
    "    ## loss\n",
    "    plt.subplot(233)\n",
    "    plt.plot(jaccardHistory)\n",
    "    plt.xlabel('Epoch')\n",
    "    plt.ylabel('Jaccard')\n",
    "\n",
    "    ## pred vs truth\n",
    "    plt.subplot(234)\n",
    "    pdist = pairwise_distances(X)\n",
    "    pdist = pdist.detach().cpu()\n",
    "    plt.imshow(pdist.max()-pdist-np.eye(pdist.shape[0]))\n",
    "    plt.title('max - distance')\n",
    "    plt.colorbar()\n",
    "\n",
    "    plt.subplot(235)\n",
    "    pred = pred.detach().cpu()\n",
    "    vmax = min(pred.max(), -pred.min())\n",
    "    cmap = colorScale2cmap([-1, 0, 1], colors)\n",
    "    plt.imshow(pred, cmap=cmap, vmin=-0.1, vmax=0.1)\n",
    "    plt.title('Prediction')\n",
    "    plt.colorbar()\n",
    "\n",
    "    plt.subplot(236)\n",
    "    cmap = colorScale2cmap([0, 0.5, 1], colors)\n",
    "    plt.imshow(Adj.detach().cpu(), cmap=cmap)\n",
    "    plt.colorbar()\n",
    "    plt.title('Ground Truth')\n",
    "\n",
    "    plt.savefig(f'fig/epoch{i}.png')\n",
    "    plt.close()\n",
    "#         plt.show()\n",
    "\n",
    "\n",
    "colors = [\n",
    "    [44,52,179],\n",
    "    [0,0,0],\n",
    "    [174,33,57],\n",
    "]"
   ]
  },
  {
   "cell_type": "markdown",
   "metadata": {},
   "source": [
    "## Optimization Procedures"
   ]
  },
  {
   "cell_type": "code",
   "execution_count": 324,
   "metadata": {},
   "outputs": [
    {
     "name": "stdout",
     "output_type": "stream",
     "text": [
      "jaccard index: 0.6666666865348816\n",
      " jaccard loss: 0.3333333134651184\n",
      "  lovasz loss: 0.6666666865348816\n"
     ]
    }
   ],
   "source": [
    "## model\n",
    "def euclidean_neighbor(x, samples=None, subgraph=None):\n",
    "    nodeCount = x.shape[0]\n",
    "    \n",
    "    if subgraph is not None \\\n",
    "    and samples is None:\n",
    "        sampleCount = len(subgraph)\n",
    "        x,y = x[subgraph,:], x[subgraph,:]\n",
    "        pdist = pairwise_distances(x,y)\n",
    "        res = torch.zeros([x.shape[0], y.shape[0]], device=device)\n",
    "        \n",
    "        for i, [distances, ns] in enumerate(zip(pdist, neighborSizes)):\n",
    "            k = sampleCount-ns.item()\n",
    "            topk = distances.topk(k)\n",
    "            thresh = topk.values[-2:].mean()\n",
    "            res[i,:] = thresh - pdist[i,:]\n",
    "            \n",
    "            \n",
    "    if samples is not None \\\n",
    "    and subgraph is None:\n",
    "        x,y = x[samples,:], x\n",
    "        pdist = pairwise_distances(x, y)\n",
    "        res = torch.zeros([x.shape[0], y.shape[0]], device=device)\n",
    "        \n",
    "        for i, [distances, ns] in enumerate(zip(pdist, neighborSizes)):\n",
    "            k = nodeCount-ns.item()\n",
    "            topk = distances.topk(k)\n",
    "            thresh = topk.values[-2:].mean()\n",
    "            res[i,:] = thresh - pdist[i,:]\n",
    "            \n",
    "            \n",
    "    if samples is None \\\n",
    "    and subgraph is None:\n",
    "        pdist = pairwise_distances(x)\n",
    "        res = torch.zeros([x.shape[0], x.shape[0]], device=device)\n",
    "     \n",
    "        nodeCount = x.shape[0]    \n",
    "        for i, [distances, ns] in enumerate(zip(pdist, neighborSizes)):\n",
    "            k = nodeCount-ns.item()\n",
    "            topk = distances.topk(k)\n",
    "            thresh = topk.values[-2:].mean()\n",
    "            res[i,:] = thresh - pdist[i,:]\n",
    "    return res\n",
    "\n",
    "\n",
    "def jaccardIndex(pred, target):\n",
    "    intersect = pred*target\n",
    "    union = (pred+target).clamp(0,1)\n",
    "    if intersect.sum() == 0:\n",
    "        return torch.tensor(0.0)\n",
    "    else:\n",
    "        return intersect.sum() / union.sum()\n",
    "\n",
    "## test:\n",
    "logits = torch.tensor([1.0, 1.0, 1.0], requires_grad=True)\n",
    "target = torch.tensor([1.0, 1.0, 0.0])\n",
    "f = L.lovasz_hinge\n",
    "\n",
    "print('jaccard index:', jaccardIndex(logits, target).item())\n",
    "print(' jaccard loss:', 1-jaccardIndex(logits, target).item())\n",
    "print('  lovasz loss:', f(logits, target).item())\n",
    "\n",
    "\n",
    "## test\n",
    "# ground_truth = torch.tensor([0.0, 0.0])\n",
    "# steps = 19\n",
    "# x,y = np.meshgrid(np.linspace(-2,2,steps).astype('float32'), np.linspace(-2,2,steps).astype('float32'))\n",
    "# z = []\n",
    "# for logits in np.c_[x.ravel(), y.ravel()]:\n",
    "#     logits = torch.tensor(logits, requires_grad=True)\n",
    "#     loss = f(logits, ground_truth).item()\n",
    "#     z.append(loss)\n",
    "# z = np.array(z)\n",
    "\n",
    "# x = x.reshape([steps,steps])\n",
    "# y = y.reshape([steps,steps])\n",
    "# z = z.reshape([steps,steps])\n",
    "\n",
    "# fig = plt.figure()\n",
    "# ax = plt.axes(projection='3d')\n",
    "# ax.plot_surface(x,y,z, cmap='viridis')\n",
    "# ax.view_init(elev=20.0, azim=210)\n",
    "# plt.show()"
   ]
  },
  {
   "cell_type": "markdown",
   "metadata": {},
   "source": [
    "## generate a graph"
   ]
  },
  {
   "cell_type": "code",
   "execution_count": 359,
   "metadata": {
    "scrolled": false
   },
   "outputs": [
    {
     "name": "stdout",
     "output_type": "stream",
     "text": [
      "generating graph...\n",
      "calculating all pairs shortest path...\n",
      "10 nodes\n",
      "\n",
      "\n",
      "\n",
      "CPU times: user 11.8 ms, sys: 3.09 ms, total: 14.9 ms\n",
      "Wall time: 13 ms\n"
     ]
    }
   ],
   "source": [
    "%%time\n",
    "\n",
    "print('generating graph...')\n",
    "# G = nx.path_graph(10)\n",
    "G = nx.cycle_graph(10)\n",
    "# G = nx.balanced_tree(3,3)\n",
    "# G = nx.connected_watts_strogatz_graph(10,5,0.5)\n",
    "# G = file2graph('./facebook/0.edges')\n",
    "\n",
    "print('calculating all pairs shortest path...')\n",
    "D, k2i = dict2tensor(dict(nx.all_pairs_shortest_path_length(G)))\n",
    "Adj,_ = dict2tensor(dict(G.adjacency()), fill=1)\n",
    "\n",
    "print(len(G.nodes), 'nodes')\n",
    "print('\\n\\n')\n",
    "\n",
    "neighborSizes = Adj.sum(dim=1).int()\n",
    "nodeCount = Adj.shape[0]\n",
    "eye = torch.eye(Adj.shape[0], device=device)\n",
    "truth = Adj + eye\n"
   ]
  },
  {
   "cell_type": "markdown",
   "metadata": {},
   "source": [
    "## Optimize via Stochastic Gradient Descent (SGD)"
   ]
  },
  {
   "cell_type": "code",
   "execution_count": 346,
   "metadata": {},
   "outputs": [],
   "source": [
    "## delete old# !rm -r fig\n",
    "# !mkdir fig"
   ]
  },
  {
   "cell_type": "code",
   "execution_count": 360,
   "metadata": {},
   "outputs": [],
   "source": [
    "##init position\n",
    "niter = 3000\n",
    "X = torch.rand(len(G.nodes), 3, requires_grad = True, device=device)\n",
    "lr=0.1\n",
    "optimizer = optim.SGD([X], lr=lr)\n",
    "# optimizer = optim.Adam([X], lr=0.1)\n",
    "\n",
    "scheduler = optim.lr_scheduler.CosineAnnealingLR(optimizer, niter, eta_min=0, last_epoch=-1)\n",
    "scheduler = None\n",
    "\n",
    "##functions\n",
    "sigmoid = nn.Sigmoid()\n",
    "jaccard_loss = L.lovasz_hinge\n",
    "\n",
    "lossHistory = []\n",
    "jaccardHistory = []"
   ]
  },
  {
   "cell_type": "code",
   "execution_count": 353,
   "metadata": {},
   "outputs": [
    {
     "data": {
      "application/vnd.jupyter.widget-view+json": {
       "model_id": "ef6ada2d557a46f7acabb972b185fcd6",
       "version_major": 2,
       "version_minor": 0
      },
      "text/plain": [
       "HBox(children=(IntProgress(value=0, max=3000), HTML(value='')))"
      ]
     },
     "metadata": {},
     "output_type": "display_data"
    },
    {
     "name": "stdout",
     "output_type": "stream",
     "text": [
      "\n"
     ]
    }
   ],
   "source": [
    "isStochastic = True\n",
    "# isStochastic = False\n",
    "\n",
    "iterBar = tqdm(range(niter))\n",
    "for i in iterBar:\n",
    "    if scheduler is not None:\n",
    "        scheduler.step()\n",
    "    \n",
    "    if X.grad is not None:\n",
    "        X.grad.data.fill_(0)\n",
    "        \n",
    "    if not isStochastic:\n",
    "        pred = euclidean_neighbor(X)\n",
    "        loss = jaccard_loss(pred.view(-1), truth.view(-1))\n",
    "    else:\n",
    "        sampleSize = 5\n",
    "        indices = np.random.randint(0, X.shape[0], size=sampleSize)\n",
    "        pred = euclidean_neighbor(X, samples=indices)\n",
    "        truth_i = truth[indices, :]\n",
    "        loss = jaccard_loss(pred.view(-1), truth_i.view(-1))\n",
    "\n",
    "#         sampleSize = len(G.nodes)#/2\n",
    "#         seedNodes = [np.random.randint(0,len(G.nodes)) for _ in range(sampleSize)]\n",
    "#         subgraphNodes = [[i,]+list(G.neighbors(i)) for i in seedNodes]\n",
    "#         subgraphNodes = list(set(sum(subgraphNodes, [])))\n",
    "#         pred = euclidean_neighbor(X, subgraph=subgraphNodes)\n",
    "#         truth_i = truth[subgraphNodes, subgraphNodes]\n",
    "#         loss = jaccard_loss(pred.view(-1), truth_i.view(-1))\n",
    "        \n",
    "    loss.backward()\n",
    "    optimizer.step()\n",
    "    \n",
    "    \n",
    "    ##debug info\n",
    "    ##vis\n",
    "    if i%10==0 or i==niter-1:\n",
    "\n",
    "        pred = euclidean_neighbor(X)\n",
    "        jaccard = jaccardIndex((pred>0).float(), truth).item()\n",
    "        iterBar.set_postfix({'loss': loss.item(), 'jaccard': jaccard})\n",
    "        \n",
    "        jaccardHistory.append(jaccard)\n",
    "        lossHistory.append(loss.item())\n",
    "#         plot(X, pred, G, Adj+eye, lossHistory, jaccardHistory, i)\n",
    "        \n",
    "          "
   ]
  },
  {
   "cell_type": "code",
   "execution_count": 358,
   "metadata": {},
   "outputs": [
    {
     "name": "stdout",
     "output_type": "stream",
     "text": [
      "loss: 0.0\n",
      "max grad: 0.0\n"
     ]
    }
   ],
   "source": [
    "pred = euclidean_neighbor(X)\n",
    "plot(X, pred, G, Adj+eye, lossHistory, jaccardHistory, i)"
   ]
  },
  {
   "cell_type": "code",
   "execution_count": 286,
   "metadata": {},
   "outputs": [
    {
     "data": {
      "text/plain": [
       "tensor([[-0.2887,  0.2360, -0.1150],\n",
       "        [ 0.1402, -0.2046, -0.2420],\n",
       "        [ 0.0000,  0.0000,  0.0000],\n",
       "        [ 0.0952, -0.0192,  0.3311],\n",
       "        [-0.0695, -0.3389, -0.0120],\n",
       "        [ 0.0000,  0.0000,  0.0000],\n",
       "        [-0.0245, -0.3457,  0.0172],\n",
       "        [ 0.1473,  0.6725,  0.0207],\n",
       "        [ 0.0000,  0.0000,  0.0000],\n",
       "        [ 0.0000,  0.0000,  0.0000],\n",
       "        [ 0.0000,  0.0000,  0.0000],\n",
       "        [ 0.0000,  0.0000,  0.0000],\n",
       "        [ 0.0000,  0.0000,  0.0000],\n",
       "        [ 0.0000,  0.0000,  0.0000],\n",
       "        [ 0.0000,  0.0000,  0.0000],\n",
       "        [ 0.0000,  0.0000,  0.0000],\n",
       "        [ 0.0000,  0.0000,  0.0000],\n",
       "        [ 0.0000,  0.0000,  0.0000],\n",
       "        [ 0.0000,  0.0000,  0.0000],\n",
       "        [ 0.0000,  0.0000,  0.0000]], device='cuda:0')"
      ]
     },
     "execution_count": 286,
     "metadata": {},
     "output_type": "execute_result"
    }
   ],
   "source": [
    "X.grad"
   ]
  },
  {
   "cell_type": "markdown",
   "metadata": {},
   "source": [
    "## animation"
   ]
  },
  {
   "cell_type": "code",
   "execution_count": 210,
   "metadata": {},
   "outputs": [],
   "source": [
    "# Create a gif from images in fig/\n",
    "\n",
    "frames = []\n",
    "imgs = natsorted(glob('fig/*.png'))\n",
    "\n",
    "for img in imgs:\n",
    "    new_frame = Image.open(img)\n",
    "    frames.append(new_frame)\n",
    "\n",
    "# Save into a GIF file that loops forever\n",
    "frames[0].save('anim9.gif', format='GIF',\n",
    "               append_images=frames[1:],\n",
    "               save_all=True,\n",
    "               duration=60, loop=0)"
   ]
  },
  {
   "cell_type": "code",
   "execution_count": null,
   "metadata": {},
   "outputs": [],
   "source": []
  },
  {
   "cell_type": "code",
   "execution_count": null,
   "metadata": {},
   "outputs": [],
   "source": [
    "## notebook animation\n",
    "\n",
    "# import imageio\n",
    "# from natsort import natsorted\n",
    "# from glob import glob\n",
    "\n",
    "# fig = plt.figure(figsize=[14,10])\n",
    "\n",
    "# ims = []\n",
    "# for fn in natsorted(glob('fig/epoch*.png')):\n",
    "#     im = imageio.imread(fn)\n",
    "#     im = plt.imshow(im, animated=True)\n",
    "#     ims.append([im])\n",
    "\n",
    "# ani = animation.ArtistAnimation(fig, ims, interval=50, blit=True,\n",
    "#                                 repeat_delay=1000)\n",
    "\n",
    "# # ani.save('dynamic_images.mp4')\n",
    "\n",
    "# display.HTML(ani.to_jshtml())\n",
    "# # plt.show()"
   ]
  }
 ],
 "metadata": {
  "kernelspec": {
   "display_name": "Python 3",
   "language": "python",
   "name": "python3"
  },
  "language_info": {
   "codemirror_mode": {
    "name": "ipython",
    "version": 3
   },
   "file_extension": ".py",
   "mimetype": "text/x-python",
   "name": "python",
   "nbconvert_exporter": "python",
   "pygments_lexer": "ipython3",
   "version": "3.6.8"
  }
 },
 "nbformat": 4,
 "nbformat_minor": 2
}
