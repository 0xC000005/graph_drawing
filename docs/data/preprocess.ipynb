{
 "cells": [
  {
   "cell_type": "code",
   "execution_count": 47,
   "metadata": {},
   "outputs": [],
   "source": [
    "from natsort import natsorted\n",
    "\n",
    "## sys\n",
    "import random\n",
    "import time\n",
    "from glob import glob\n",
    "import json\n",
    "from pathlib import Path\n",
    "import os\n",
    "\n",
    "## numeric\n",
    "import numpy as np\n",
    "import torch\n",
    "from torch import nn, optim\n",
    "import torch.nn.functional as F\n",
    "\n",
    "## vis\n",
    "import networkx as nx\n",
    "import matplotlib.pyplot as plt\n",
    "import matplotlib.animation as animation\n",
    "from matplotlib.colors import LinearSegmentedColormap\n",
    "from mpl_toolkits import mplot3d\n",
    "from matplotlib import collections  as mc\n",
    "from mpl_toolkits.mplot3d.art3d import Line3DCollection\n",
    "\n",
    "## notebook\n",
    "from IPython import display\n",
    "from tqdm import tqdm_notebook as tqdm\n",
    "\n",
    "device = torch.device('cuda') if torch.cuda.is_available() else torch.device('cpu')\n",
    "\n",
    "plt.style.use('ggplot')\n",
    "plt.style.use('seaborn-colorblind')\n",
    "\n",
    "\n",
    "\n",
    "def dict2tensor(d, fill=None):\n",
    "    n = len(d.keys())\n",
    "    k2i = {k:i for i,k in enumerate(natsorted(d.keys()))}\n",
    "    res = torch.zeros(len(d.keys()), len(d.keys()), device=device)\n",
    "    for src_node, dst_nodes in d.items():\n",
    "        for dst_node, distance in dst_nodes.items():\n",
    "            if fill is not None:\n",
    "                res[k2i[src_node],k2i[dst_node]] = fill\n",
    "            else:\n",
    "                res[k2i[src_node],k2i[dst_node]] = distance\n",
    "    return res, k2i\n",
    "\n",
    "\n",
    "def graph2json(graph, D, W, initPositions):\n",
    "    res = {k:v for k,v in graph.items()}\n",
    "    res['nodes'] = [\n",
    "        {\n",
    "            'index':i, \n",
    "            'id': node['id'],\n",
    "            'x': initPositions[i]['x'],\n",
    "            'y': initPositions[i]['y'],\n",
    "        } \n",
    "        for i, node in enumerate(graph['nodes'])]\n",
    "    res['weight'] = W.cpu().numpy().tolist()\n",
    "    res['graphDistance'] = D.cpu().numpy().tolist()\n",
    "    return res"
   ]
  },
  {
   "cell_type": "markdown",
   "metadata": {},
   "source": [
    "## preprocess graph for contest"
   ]
  },
  {
   "cell_type": "code",
   "execution_count": 56,
   "metadata": {},
   "outputs": [
    {
     "data": {
      "text/plain": [
       "['contest-0/automatic-1.txt',\n",
       " 'contest-0/automatic-2.txt',\n",
       " 'contest-0/automatic-3.txt',\n",
       " 'contest-0/automatic-4.txt',\n",
       " 'contest-0/automatic-5.txt',\n",
       " 'contest-0/automatic-6.txt',\n",
       " 'contest-0/automatic-7.txt',\n",
       " 'contest-0/automatic-8.txt',\n",
       " 'contest-0/automatic-9.txt',\n",
       " 'contest-0/automatic-10.txt',\n",
       " 'contest-0/automatic-12.txt',\n",
       " 'contest-0/automatic-13.txt']"
      ]
     },
     "execution_count": 56,
     "metadata": {},
     "output_type": "execute_result"
    }
   ],
   "source": [
    "fns = natsorted(\n",
    "#     glob('contest-prep-0/*.json')\n",
    "#     + glob('contest-prep-0/*.txt')\n",
    "    glob('contest-0/*.json')\n",
    "    + glob('contest-0/*.txt')\n",
    ")\n",
    "fns"
   ]
  },
  {
   "cell_type": "code",
   "execution_count": 57,
   "metadata": {},
   "outputs": [
    {
     "name": "stdout",
     "output_type": "stream",
     "text": [
      " in: contest-0/automatic-1.txt\n",
      "out: contest-1/automatic-1.json\n",
      "\n",
      "----------------------------------------\n",
      " in: contest-0/automatic-2.txt\n",
      "out: contest-1/automatic-2.json\n",
      "\n",
      "----------------------------------------\n",
      " in: contest-0/automatic-3.txt\n",
      "out: contest-1/automatic-3.json\n",
      "\n",
      "----------------------------------------\n",
      " in: contest-0/automatic-4.txt\n",
      "out: contest-1/automatic-4.json\n",
      "\n",
      "----------------------------------------\n",
      " in: contest-0/automatic-5.txt\n",
      "out: contest-1/automatic-5.json\n",
      "\n",
      "----------------------------------------\n",
      " in: contest-0/automatic-6.txt\n",
      "out: contest-1/automatic-6.json\n",
      "\n",
      "----------------------------------------\n",
      " in: contest-0/automatic-7.txt\n",
      "out: contest-1/automatic-7.json\n",
      "\n",
      "----------------------------------------\n",
      " in: contest-0/automatic-8.txt\n",
      "out: contest-1/automatic-8.json\n",
      "\n",
      "----------------------------------------\n",
      " in: contest-0/automatic-9.txt\n",
      "out: contest-1/automatic-9.json\n",
      "\n",
      "----------------------------------------\n",
      " in: contest-0/automatic-10.txt\n",
      "out: contest-1/automatic-10.json\n",
      "\n",
      "----------------------------------------\n",
      " in: contest-0/automatic-12.txt\n",
      "out: contest-1/automatic-12.json\n",
      "\n",
      "----------------------------------------\n",
      " in: contest-0/automatic-13.txt\n",
      "out: contest-1/automatic-13.json\n",
      "\n",
      "----------------------------------------\n"
     ]
    }
   ],
   "source": [
    "for fn in fns:\n",
    "    print(' in: ' + fn)\n",
    "    with open(fn) as f:\n",
    "        graph = json.load(f)\n",
    "    graph['nodes'] = natsorted(graph['nodes'], key=lambda x:x['id'])\n",
    "    \n",
    "    nodes = [n['id'] for n in graph['nodes']]\n",
    "    edges = [[e['source'], e['target']] for e in graph['edges']]\n",
    "    \n",
    "    G = nx.Graph()\n",
    "    G.add_nodes_from(nodes)\n",
    "    G.add_edges_from(edges)\n",
    "    \n",
    "    nodeCount = len(G.nodes)\n",
    "    D, k2i = dict2tensor(dict(nx.all_pairs_shortest_path_length(G)))\n",
    "    Adj,_ = dict2tensor(dict(G.adjacency()), fill=1)\n",
    "    \n",
    "    W = 1/(D**2+np.eye(nodeCount))\n",
    "    js = graph2json(graph, D, W, graph['nodes'])\n",
    "    \n",
    "    fnout = fn.replace('-0', '-1').replace('txt', 'json')\n",
    "    print(f'out: {fnout}')\n",
    "    if not Path(Path(fnout).parent).exists():\n",
    "        os.makedirs(Path(fnout).parent)\n",
    "    with open(fnout, 'w') as f:\n",
    "        json.dump(js, f, indent=2)\n",
    "        print()\n",
    "    print('-'*40)   "
   ]
  },
  {
   "cell_type": "code",
   "execution_count": 55,
   "metadata": {},
   "outputs": [],
   "source": [
    "## change html"
   ]
  },
  {
   "cell_type": "code",
   "execution_count": 58,
   "metadata": {},
   "outputs": [
    {
     "name": "stdout",
     "output_type": "stream",
     "text": [
      "<option value='automatic-1'>automatic-1</option>\n",
      "<option value='automatic-2'>automatic-2</option>\n",
      "<option value='automatic-3'>automatic-3</option>\n",
      "<option value='automatic-4'>automatic-4</option>\n",
      "<option value='automatic-5'>automatic-5</option>\n",
      "<option value='automatic-6'>automatic-6</option>\n",
      "<option value='automatic-7'>automatic-7</option>\n",
      "<option value='automatic-8'>automatic-8</option>\n",
      "<option value='automatic-9'>automatic-9</option>\n",
      "<option value='automatic-10'>automatic-10</option>\n",
      "<option value='automatic-12'>automatic-12</option>\n",
      "<option value='automatic-13'>automatic-13</option>\n"
     ]
    }
   ],
   "source": [
    "for fn in fns:\n",
    "    graph_name = Path(fn).name.split('.')[0]\n",
    "    print(f\"<option value='{graph_name}'>{graph_name}</option>\")"
   ]
  },
  {
   "cell_type": "markdown",
   "metadata": {},
   "source": [
    "<hr>"
   ]
  },
  {
   "cell_type": "markdown",
   "metadata": {},
   "source": [
    "## generate a graph"
   ]
  },
  {
   "cell_type": "code",
   "execution_count": 4,
   "metadata": {},
   "outputs": [
    {
     "data": {
      "text/plain": [
       "['contest-prep/test-1.json']"
      ]
     },
     "execution_count": 4,
     "metadata": {},
     "output_type": "execute_result"
    }
   ],
   "source": [
    "# fns = natsorted(\n",
    "#     glob('_tsne_output/*.json')\n",
    "#     +glob('_neato_sfdp_layouts0/*.dot'),\n",
    "#     key=lambda x:x.split('/')[-1]\n",
    "# )\n",
    "# fns = [fn for fn in fns if 'grid' in fn and 'tnse']\n",
    "\n",
    "\n",
    "\n",
    "\n",
    "\n"
   ]
  },
  {
   "cell_type": "code",
   "execution_count": 52,
   "metadata": {
    "scrolled": true
   },
   "outputs": [],
   "source": [
    "\n",
    "# for fn in fns:\n",
    "#     print(' in: ' + fn)\n",
    "#     with open(fn) as f:\n",
    "#         graph = json.load(f)\n",
    "#     print(graph['nodes'])\n",
    "#     for n in graph['nodes']:\n",
    "#         n['id'] = str(n['id'])\n",
    "        \n",
    "#     for e in graph['edges']:\n",
    "#         e['source'] = str(e['source'])\n",
    "#         e['target'] = str(e['target'])\n",
    "        \n",
    "#     for p in graph['initPositions']:\n",
    "#         p['id'] = str(p['id'])\n",
    "    \n",
    "#     for d, pos in zip(graph['nodes'], graph['initPositions']):\n",
    "#         assert d['id'] == pos['id'], f\"{d['id']} != {pos['id']}\"\n",
    "#         d['x'] = pos['x']\n",
    "#         d['y'] = pos['y']\n",
    "    \n",
    "#     graph['nodes'] = natsorted(graph['nodes'], key=lambda x:x['id'])\n",
    "    \n",
    "#     for n in graph['nodes']:\n",
    "#         print(n)\n",
    "#     nodes = [n['id'] for n in graph['nodes']]\n",
    "    \n",
    "#     print(nodes)\n",
    "#     edges = [[e['source'], e['target']] for e in graph['edges']]\n",
    "    \n",
    "#     G = nx.Graph()\n",
    "#     G.add_nodes_from(nodes)\n",
    "#     G.add_edges_from(edges)\n",
    "    \n",
    "#     nodeCount = len(G.nodes)\n",
    "#     D, k2i = dict2tensor(dict(nx.all_pairs_shortest_path_length(G)))\n",
    "#     Adj,_ = dict2tensor(dict(G.adjacency()), fill=1)\n",
    "    \n",
    "#     eye = torch.eye(nodeCount, device=device)\n",
    "#     W = 1/(D**2+eye)\n",
    "#     print(len(G.nodes), len(graph['nodes']))\n",
    "#     js = graph2json(G, D, W, graph['nodes'])\n",
    "#     fnout = fn.split('/')[-1].replace('.dot', '.json')\n",
    "#     if 'neato' in fnout:\n",
    "#         fnout = 'neato_layouts/' + fnout\n",
    "#     elif 'sfdp' in fnout:\n",
    "#         fnout = 'sfdp_layouts/' + fnout\n",
    "#     elif 'tsne' in fnout:\n",
    "#         fnout = 'tsne_layouts/' + fnout\n",
    "#     else:\n",
    "#         raise Exception\n",
    "        \n",
    "#     with open(fnout, 'w') as f:\n",
    "#         json.dump(js, f, indent=2)\n",
    "#         print(f'out: {fnout}')\n",
    "#         print()\n",
    "        \n",
    "        \n",
    "#     if 'neato.dot' in fn:\n",
    "#         init_neato = [[d['x'], d['y']] for d in graph['nodes']]\n",
    "#     if 'sfdp.dot' in fn:\n",
    "#         init_sfdp = [[d['x'], d['y']] for d in graph['nodes']]\n",
    "# #     if 'tsne.json' in fn:\n",
    "# #         init_tsne = [[d['x'], d['y']] for d in graph['nodes']]\n",
    "        \n",
    "#         js['initPosition_neato'] = init_neato\n",
    "#         js['initPosition_sfdp'] = init_sfdp\n",
    "# #         js['initPosition_tsne'] = init_tsne\n",
    "        \n",
    "#         fnout = '_'.join(fnout.split('/')[-1].split('_')[:-1]) + '.json'\n",
    "#         with open(fnout, 'w') as f:\n",
    "#             json.dump(js, f, indent=2)\n",
    "#             print('out: ' + fnout)\n",
    "#         print('-'*20)\n",
    "        "
   ]
  },
  {
   "cell_type": "code",
   "execution_count": 53,
   "metadata": {
    "scrolled": true
   },
   "outputs": [],
   "source": [
    "# nx.draw_networkx(G, pos={str(i):pos for i,pos in enumerate(init_neato)})"
   ]
  },
  {
   "cell_type": "code",
   "execution_count": null,
   "metadata": {},
   "outputs": [],
   "source": []
  }
 ],
 "metadata": {
  "kernelspec": {
   "display_name": "Python 3",
   "language": "python",
   "name": "python3"
  },
  "language_info": {
   "codemirror_mode": {
    "name": "ipython",
    "version": 3
   },
   "file_extension": ".py",
   "mimetype": "text/x-python",
   "name": "python",
   "nbconvert_exporter": "python",
   "pygments_lexer": "ipython3",
   "version": "3.8.2"
  }
 },
 "nbformat": 4,
 "nbformat_minor": 2
}
